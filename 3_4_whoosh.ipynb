{
  "cells": [
    {
      "cell_type": "markdown",
      "metadata": {
        "id": "view-in-github",
        "colab_type": "text"
      },
      "source": [
        "<a href=\"https://colab.research.google.com/github/jesusGS01/TGINE/blob/main/3_4_whoosh.ipynb\" target=\"_parent\"><img src=\"https://colab.research.google.com/assets/colab-badge.svg\" alt=\"Open In Colab\"/></a>"
      ]
    },
    {
      "cell_type": "markdown",
      "metadata": {
        "id": "s1io-rnNx7Vb"
      },
      "source": [
        "# Sesión 3.4 Whoosh\n",
        "Este es un simple ejemplo de uso de Whoosh como buscador.\n",
        "\n",
        "Lo primero que hacemos es importar Whoosh"
      ]
    },
    {
      "cell_type": "code",
      "execution_count": 1,
      "metadata": {
        "id": "hEXLdnBAx5KH",
        "colab": {
          "base_uri": "https://localhost:8080/"
        },
        "outputId": "9b24c8fe-3462-415d-d5d3-887a8f16f4ba"
      },
      "outputs": [
        {
          "output_type": "stream",
          "name": "stdout",
          "text": [
            "Collecting whoosh\n",
            "  Downloading Whoosh-2.7.4-py2.py3-none-any.whl (468 kB)\n",
            "\u001b[?25l     \u001b[90m━━━━━━━━━━━━━━━━━━━━━━━━━━━━━━━━━━━━━━━━\u001b[0m \u001b[32m0.0/468.8 kB\u001b[0m \u001b[31m?\u001b[0m eta \u001b[36m-:--:--\u001b[0m\r\u001b[2K     \u001b[91m━━━━━━━━━━━━━━\u001b[0m\u001b[91m╸\u001b[0m\u001b[90m━━━━━━━━━━━━━━━━━━━━━━━━━\u001b[0m \u001b[32m174.1/468.8 kB\u001b[0m \u001b[31m5.3 MB/s\u001b[0m eta \u001b[36m0:00:01\u001b[0m\r\u001b[2K     \u001b[90m━━━━━━━━━━━━━━━━━━━━━━━━━━━━━━━━━━━━━━━━\u001b[0m \u001b[32m468.8/468.8 kB\u001b[0m \u001b[31m7.2 MB/s\u001b[0m eta \u001b[36m0:00:00\u001b[0m\n",
            "\u001b[?25hInstalling collected packages: whoosh\n",
            "Successfully installed whoosh-2.7.4\n"
          ]
        }
      ],
      "source": [
        "!pip3 install whoosh\n",
        "#instalamos whoosh"
      ]
    },
    {
      "cell_type": "markdown",
      "metadata": {
        "id": "a77SsmR3OQi9"
      },
      "source": [
        "## Apartado 1.1 Resuelto\n",
        "\n",
        "Se define un esquema de texto formado por varios campos para representar los documentos. Podemos decir si queremos que se almacene o no.\n",
        "Después definimos la carpeta donde se va a guardar y crear el índice y vamos añadiendo documentos al índice."
      ]
    },
    {
      "cell_type": "code",
      "execution_count": 2,
      "metadata": {
        "id": "EbboREUjzOtE"
      },
      "outputs": [],
      "source": [
        "from whoosh.fields import Schema\n",
        "#importamos Schema de Whoosh\n",
        "from whoosh.fields import ID, KEYWORD, TEXT\n",
        "import os\n",
        "import json\n",
        "\n",
        "text_schema = Schema(id = ID(unique=True, stored=True),\n",
        "                    path = ID(stored=True),\n",
        "                    title = TEXT(stored=True),\n",
        "                    text = TEXT(stored=True))\n",
        "# definimos un schema para representar los documentos\n",
        "\n",
        "import os, os.path\n",
        "from whoosh import index\n",
        "\n",
        "# definimos el directorio donde guardar los índices\n",
        "if not os.path.exists(\"indexdir\"):\n",
        "    os.mkdir(\"indexdir\")\n",
        "\n",
        "# Creamos el índice con ese esquema de texto\n",
        "ix = index.create_in(\"indexdir\", text_schema)\n",
        "\n",
        "# Añadimos documentos al índice indicando los campos definidos en el esquema.\n",
        "writer = ix.writer()\n",
        "\n",
        "# Añadimos dos documentos\n",
        "writer.add_document(id ='1', path='1.txt', title='La clase de teoría de la semana que viene se cambia a lunes', text='La clase de teoría de TGINE del martes que viene se cambia a lunes en el último horario de la tarde')\n",
        "writer.add_document(id ='2', path='2.txt', title='Ya podéis realizar la primera práctica evaluable', text='Con la clase práctica hoy de Scrapy ya podéis empezar a realizar la primera práctica evaluable de la asignatura')\n",
        "\n",
        "\n",
        "# Actualizamos el índice\n",
        "writer.commit()\n"
      ]
    },
    {
      "cell_type": "markdown",
      "metadata": {
        "id": "ZCqFqZqQOQi-"
      },
      "source": [
        "## Apartado 1.2\n",
        "\n",
        "En el siguiente código se puede hacer una búsqueda sencilla con Whoosh.\n",
        "\n",
        "La documentación de esta librería se encuentra en: https://whoosh.readthedocs.io/en/latest/"
      ]
    },
    {
      "cell_type": "code",
      "execution_count": 8,
      "metadata": {
        "colab": {
          "base_uri": "https://localhost:8080/"
        },
        "id": "ZznyV6Sb10xj",
        "outputId": "8c76f4cb-0cbd-4ac8-8852-3e273a1cf863"
      },
      "outputs": [
        {
          "output_type": "stream",
          "name": "stdout",
          "text": [
            "Resultado \n",
            "2.txt  Score obtenido: 0.607617566774541\n",
            "Con la <b class=\"match term0\">clase</b> práctica hoy de Scrapy\n",
            "<Hit {'id': '2', 'path': '2.txt', 'text': 'Con la clase práctica hoy de Scrapy ya podéis empezar a realizar la primera práctica evaluable de la asignatura', 'title': 'Ya podéis realizar la primera práctica evaluable'}>\n",
            "Resultado \n",
            "1.txt  Score obtenido: 0.5820037115006729\n",
            "La <b class=\"match term0\">clase</b> de teoría de TGINE\n",
            "<Hit {'id': '1', 'path': '1.txt', 'text': 'La clase de teoría de TGINE del martes que viene se cambia a lunes en el último horario de la tarde', 'title': 'La clase de teoría de la semana que viene se cambia a lunes'}>\n"
          ]
        }
      ],
      "source": [
        "from whoosh.qparser import QueryParser\n",
        "from whoosh.qparser import FuzzyTermPlugin\n",
        "\n",
        "texto_a_buscar = 'clase'\n",
        "\n",
        "# Obtenemos el searcher() del índice\n",
        "with ix.searcher() as searcher:\n",
        "     # Buscamos por el campo de texto pero se podría buscar en otros campos\n",
        "     parser = QueryParser(\"text\", ix.schema)\n",
        "\n",
        "     query = parser.parse(texto_a_buscar)\n",
        "     results = searcher.search(query)\n",
        "     for hit in results:\n",
        "        print(\"Resultado \")\n",
        "        print(hit['path'] , \" Score obtenido:\",hit.score)\n",
        "        print(hit.highlights(\"text\"))\n",
        "        print(hit)"
      ]
    },
    {
      "cell_type": "markdown",
      "metadata": {
        "id": "0m-xUnvjOQi-"
      },
      "source": [
        "## Apartado 1.3 (No entregar)\n",
        "\n",
        "Se podría mejorar este ejemplo obteniendo todos los ficheros de una de las carpetas que se han extraído con Scrapy e indexarla para poder hacer búsquedas."
      ]
    }
  ],
  "metadata": {
    "colab": {
      "provenance": [],
      "include_colab_link": true
    },
    "kernelspec": {
      "display_name": "Python 3 (ipykernel)",
      "language": "python",
      "name": "python3"
    },
    "language_info": {
      "codemirror_mode": {
        "name": "ipython",
        "version": 3
      },
      "file_extension": ".py",
      "mimetype": "text/x-python",
      "name": "python",
      "nbconvert_exporter": "python",
      "pygments_lexer": "ipython3",
      "version": "3.8.6"
    }
  },
  "nbformat": 4,
  "nbformat_minor": 0
}