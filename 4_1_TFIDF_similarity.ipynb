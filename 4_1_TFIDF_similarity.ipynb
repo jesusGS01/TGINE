{
  "cells": [
    {
      "cell_type": "markdown",
      "metadata": {
        "id": "view-in-github",
        "colab_type": "text"
      },
      "source": [
        "<a href=\"https://colab.research.google.com/github/jesusGS01/TGINE/blob/main/4_1_TFIDF_similarity.ipynb\" target=\"_parent\"><img src=\"https://colab.research.google.com/assets/colab-badge.svg\" alt=\"Open In Colab\"/></a>"
      ]
    },
    {
      "cell_type": "markdown",
      "metadata": {
        "id": "JEdGLPXLdvCG"
      },
      "source": [
        "# Sesión 4.1 - Procesamiento de texto con la librería scikit-learn\n",
        "En esta sesión de prácticas vamos a ver cómo podemo usar las funciones de tratamiento de texto de la librería scikit-learn para calcular TF, TF-IDF y BM25\n",
        "\n",
        "Primero, instalaremos la librerías necesarias."
      ]
    },
    {
      "cell_type": "code",
      "execution_count": null,
      "metadata": {
        "id": "an8uq5WbeOZ6"
      },
      "outputs": [],
      "source": [
        "!pip3 install -U scikit-learn\n",
        "# Descargamos un fichero python con la implementación del BM25\n",
        "!wget https://dis.um.es/~valencia/recursosTGINE/BM25.py\n",
        "\n",
        "# Descargamos el fichero datasetEspañol.csv\n",
        "!wget https://dis.um.es/~valencia/recursosTGINE/datasetEspañol.csv\n"
      ]
    },
    {
      "cell_type": "code",
      "execution_count": 2,
      "metadata": {
        "id": "n8Wt0FkzyW19"
      },
      "outputs": [],
      "source": [
        "import numpy as np\n",
        "import pandas as pd\n",
        "from sklearn.feature_extraction.text import CountVectorizer\n",
        "from sklearn.metrics.pairwise import cosine_similarity"
      ]
    },
    {
      "cell_type": "code",
      "execution_count": 3,
      "metadata": {
        "id": "MarKmlc0Cyaj"
      },
      "outputs": [],
      "source": [
        "# Importamos del fichero BM25.py\n",
        "from BM25 import BM25Transformer"
      ]
    },
    {
      "cell_type": "code",
      "execution_count": 4,
      "metadata": {
        "id": "p1ldLK4Hye0H",
        "colab": {
          "base_uri": "https://localhost:8080/",
          "height": 206
        },
        "outputId": "8a9a210a-70b4-4e7d-95a9-a4091305febf"
      },
      "outputs": [
        {
          "output_type": "execute_result",
          "data": {
            "text/plain": [
              "               twitter_id   twitter_created_at  \\\n",
              "5954  1274324047581581316  2020-06-20 16:51:43   \n",
              "5955  1274321386446733315  2020-06-20 16:41:08   \n",
              "5956  1274340519271858178  2020-06-20 17:57:10   \n",
              "5957  1274367246979211269  2020-06-20 19:43:22   \n",
              "5958  1274368625047220224  2020-06-20 19:48:51   \n",
              "\n",
              "                                                  tweet  \\\n",
              "5954  No me fío nada! ? en #estadodealarma demostrar...   \n",
              "5955  @roldanfj1 @MikiyDuarte @diariocadiz @realDona...   \n",
              "5956  Con el fin del #EstadodeAlarma se acaban, tamb...   \n",
              "5957  @horaciorlarreta. @AsisOberdan. @luisnovaresio...   \n",
              "5958  En la última semana se han registrado 36 falle...   \n",
              "\n",
              "                                   corpus             user  agreement  votes  \\\n",
              "5954  Estado de alarma nacional (oficial)   GuzmanitaMaria        100      1   \n",
              "5955  Estado de alarma nacional (oficial)        ByChanchi        100      1   \n",
              "5956  Estado de alarma nacional (oficial)  Javiersilvestre        100      1   \n",
              "5957  Estado de alarma nacional (oficial)     juliodebarna        100      1   \n",
              "5958  Estado de alarma nacional (oficial)   mallorcadiario        100      1   \n",
              "\n",
              "      score     label __split  \n",
              "5954     -1  negative    test  \n",
              "5955     -1  negative   train  \n",
              "5956     -1  negative     val  \n",
              "5957     -1  negative   train  \n",
              "5958     -1  negative   train  "
            ],
            "text/html": [
              "\n",
              "  <div id=\"df-70f62b9d-e1d1-4764-b7e7-f72f531ff94d\" class=\"colab-df-container\">\n",
              "    <div>\n",
              "<style scoped>\n",
              "    .dataframe tbody tr th:only-of-type {\n",
              "        vertical-align: middle;\n",
              "    }\n",
              "\n",
              "    .dataframe tbody tr th {\n",
              "        vertical-align: top;\n",
              "    }\n",
              "\n",
              "    .dataframe thead th {\n",
              "        text-align: right;\n",
              "    }\n",
              "</style>\n",
              "<table border=\"1\" class=\"dataframe\">\n",
              "  <thead>\n",
              "    <tr style=\"text-align: right;\">\n",
              "      <th></th>\n",
              "      <th>twitter_id</th>\n",
              "      <th>twitter_created_at</th>\n",
              "      <th>tweet</th>\n",
              "      <th>corpus</th>\n",
              "      <th>user</th>\n",
              "      <th>agreement</th>\n",
              "      <th>votes</th>\n",
              "      <th>score</th>\n",
              "      <th>label</th>\n",
              "      <th>__split</th>\n",
              "    </tr>\n",
              "  </thead>\n",
              "  <tbody>\n",
              "    <tr>\n",
              "      <th>5954</th>\n",
              "      <td>1274324047581581316</td>\n",
              "      <td>2020-06-20 16:51:43</td>\n",
              "      <td>No me fío nada! ? en #estadodealarma demostrar...</td>\n",
              "      <td>Estado de alarma nacional (oficial)</td>\n",
              "      <td>GuzmanitaMaria</td>\n",
              "      <td>100</td>\n",
              "      <td>1</td>\n",
              "      <td>-1</td>\n",
              "      <td>negative</td>\n",
              "      <td>test</td>\n",
              "    </tr>\n",
              "    <tr>\n",
              "      <th>5955</th>\n",
              "      <td>1274321386446733315</td>\n",
              "      <td>2020-06-20 16:41:08</td>\n",
              "      <td>@roldanfj1 @MikiyDuarte @diariocadiz @realDona...</td>\n",
              "      <td>Estado de alarma nacional (oficial)</td>\n",
              "      <td>ByChanchi</td>\n",
              "      <td>100</td>\n",
              "      <td>1</td>\n",
              "      <td>-1</td>\n",
              "      <td>negative</td>\n",
              "      <td>train</td>\n",
              "    </tr>\n",
              "    <tr>\n",
              "      <th>5956</th>\n",
              "      <td>1274340519271858178</td>\n",
              "      <td>2020-06-20 17:57:10</td>\n",
              "      <td>Con el fin del #EstadodeAlarma se acaban, tamb...</td>\n",
              "      <td>Estado de alarma nacional (oficial)</td>\n",
              "      <td>Javiersilvestre</td>\n",
              "      <td>100</td>\n",
              "      <td>1</td>\n",
              "      <td>-1</td>\n",
              "      <td>negative</td>\n",
              "      <td>val</td>\n",
              "    </tr>\n",
              "    <tr>\n",
              "      <th>5957</th>\n",
              "      <td>1274367246979211269</td>\n",
              "      <td>2020-06-20 19:43:22</td>\n",
              "      <td>@horaciorlarreta. @AsisOberdan. @luisnovaresio...</td>\n",
              "      <td>Estado de alarma nacional (oficial)</td>\n",
              "      <td>juliodebarna</td>\n",
              "      <td>100</td>\n",
              "      <td>1</td>\n",
              "      <td>-1</td>\n",
              "      <td>negative</td>\n",
              "      <td>train</td>\n",
              "    </tr>\n",
              "    <tr>\n",
              "      <th>5958</th>\n",
              "      <td>1274368625047220224</td>\n",
              "      <td>2020-06-20 19:48:51</td>\n",
              "      <td>En la última semana se han registrado 36 falle...</td>\n",
              "      <td>Estado de alarma nacional (oficial)</td>\n",
              "      <td>mallorcadiario</td>\n",
              "      <td>100</td>\n",
              "      <td>1</td>\n",
              "      <td>-1</td>\n",
              "      <td>negative</td>\n",
              "      <td>train</td>\n",
              "    </tr>\n",
              "  </tbody>\n",
              "</table>\n",
              "</div>\n",
              "    <div class=\"colab-df-buttons\">\n",
              "\n",
              "  <div class=\"colab-df-container\">\n",
              "    <button class=\"colab-df-convert\" onclick=\"convertToInteractive('df-70f62b9d-e1d1-4764-b7e7-f72f531ff94d')\"\n",
              "            title=\"Convert this dataframe to an interactive table.\"\n",
              "            style=\"display:none;\">\n",
              "\n",
              "  <svg xmlns=\"http://www.w3.org/2000/svg\" height=\"24px\" viewBox=\"0 -960 960 960\">\n",
              "    <path d=\"M120-120v-720h720v720H120Zm60-500h600v-160H180v160Zm220 220h160v-160H400v160Zm0 220h160v-160H400v160ZM180-400h160v-160H180v160Zm440 0h160v-160H620v160ZM180-180h160v-160H180v160Zm440 0h160v-160H620v160Z\"/>\n",
              "  </svg>\n",
              "    </button>\n",
              "\n",
              "  <style>\n",
              "    .colab-df-container {\n",
              "      display:flex;\n",
              "      gap: 12px;\n",
              "    }\n",
              "\n",
              "    .colab-df-convert {\n",
              "      background-color: #E8F0FE;\n",
              "      border: none;\n",
              "      border-radius: 50%;\n",
              "      cursor: pointer;\n",
              "      display: none;\n",
              "      fill: #1967D2;\n",
              "      height: 32px;\n",
              "      padding: 0 0 0 0;\n",
              "      width: 32px;\n",
              "    }\n",
              "\n",
              "    .colab-df-convert:hover {\n",
              "      background-color: #E2EBFA;\n",
              "      box-shadow: 0px 1px 2px rgba(60, 64, 67, 0.3), 0px 1px 3px 1px rgba(60, 64, 67, 0.15);\n",
              "      fill: #174EA6;\n",
              "    }\n",
              "\n",
              "    .colab-df-buttons div {\n",
              "      margin-bottom: 4px;\n",
              "    }\n",
              "\n",
              "    [theme=dark] .colab-df-convert {\n",
              "      background-color: #3B4455;\n",
              "      fill: #D2E3FC;\n",
              "    }\n",
              "\n",
              "    [theme=dark] .colab-df-convert:hover {\n",
              "      background-color: #434B5C;\n",
              "      box-shadow: 0px 1px 3px 1px rgba(0, 0, 0, 0.15);\n",
              "      filter: drop-shadow(0px 1px 2px rgba(0, 0, 0, 0.3));\n",
              "      fill: #FFFFFF;\n",
              "    }\n",
              "  </style>\n",
              "\n",
              "    <script>\n",
              "      const buttonEl =\n",
              "        document.querySelector('#df-70f62b9d-e1d1-4764-b7e7-f72f531ff94d button.colab-df-convert');\n",
              "      buttonEl.style.display =\n",
              "        google.colab.kernel.accessAllowed ? 'block' : 'none';\n",
              "\n",
              "      async function convertToInteractive(key) {\n",
              "        const element = document.querySelector('#df-70f62b9d-e1d1-4764-b7e7-f72f531ff94d');\n",
              "        const dataTable =\n",
              "          await google.colab.kernel.invokeFunction('convertToInteractive',\n",
              "                                                    [key], {});\n",
              "        if (!dataTable) return;\n",
              "\n",
              "        const docLinkHtml = 'Like what you see? Visit the ' +\n",
              "          '<a target=\"_blank\" href=https://colab.research.google.com/notebooks/data_table.ipynb>data table notebook</a>'\n",
              "          + ' to learn more about interactive tables.';\n",
              "        element.innerHTML = '';\n",
              "        dataTable['output_type'] = 'display_data';\n",
              "        await google.colab.output.renderOutput(dataTable, element);\n",
              "        const docLink = document.createElement('div');\n",
              "        docLink.innerHTML = docLinkHtml;\n",
              "        element.appendChild(docLink);\n",
              "      }\n",
              "    </script>\n",
              "  </div>\n",
              "\n",
              "\n",
              "<div id=\"df-d1af756f-b932-4803-9d79-ebf81ad42204\">\n",
              "  <button class=\"colab-df-quickchart\" onclick=\"quickchart('df-d1af756f-b932-4803-9d79-ebf81ad42204')\"\n",
              "            title=\"Suggest charts.\"\n",
              "            style=\"display:none;\">\n",
              "\n",
              "<svg xmlns=\"http://www.w3.org/2000/svg\" height=\"24px\"viewBox=\"0 0 24 24\"\n",
              "     width=\"24px\">\n",
              "    <g>\n",
              "        <path d=\"M19 3H5c-1.1 0-2 .9-2 2v14c0 1.1.9 2 2 2h14c1.1 0 2-.9 2-2V5c0-1.1-.9-2-2-2zM9 17H7v-7h2v7zm4 0h-2V7h2v10zm4 0h-2v-4h2v4z\"/>\n",
              "    </g>\n",
              "</svg>\n",
              "  </button>\n",
              "\n",
              "<style>\n",
              "  .colab-df-quickchart {\n",
              "      --bg-color: #E8F0FE;\n",
              "      --fill-color: #1967D2;\n",
              "      --hover-bg-color: #E2EBFA;\n",
              "      --hover-fill-color: #174EA6;\n",
              "      --disabled-fill-color: #AAA;\n",
              "      --disabled-bg-color: #DDD;\n",
              "  }\n",
              "\n",
              "  [theme=dark] .colab-df-quickchart {\n",
              "      --bg-color: #3B4455;\n",
              "      --fill-color: #D2E3FC;\n",
              "      --hover-bg-color: #434B5C;\n",
              "      --hover-fill-color: #FFFFFF;\n",
              "      --disabled-bg-color: #3B4455;\n",
              "      --disabled-fill-color: #666;\n",
              "  }\n",
              "\n",
              "  .colab-df-quickchart {\n",
              "    background-color: var(--bg-color);\n",
              "    border: none;\n",
              "    border-radius: 50%;\n",
              "    cursor: pointer;\n",
              "    display: none;\n",
              "    fill: var(--fill-color);\n",
              "    height: 32px;\n",
              "    padding: 0;\n",
              "    width: 32px;\n",
              "  }\n",
              "\n",
              "  .colab-df-quickchart:hover {\n",
              "    background-color: var(--hover-bg-color);\n",
              "    box-shadow: 0 1px 2px rgba(60, 64, 67, 0.3), 0 1px 3px 1px rgba(60, 64, 67, 0.15);\n",
              "    fill: var(--button-hover-fill-color);\n",
              "  }\n",
              "\n",
              "  .colab-df-quickchart-complete:disabled,\n",
              "  .colab-df-quickchart-complete:disabled:hover {\n",
              "    background-color: var(--disabled-bg-color);\n",
              "    fill: var(--disabled-fill-color);\n",
              "    box-shadow: none;\n",
              "  }\n",
              "\n",
              "  .colab-df-spinner {\n",
              "    border: 2px solid var(--fill-color);\n",
              "    border-color: transparent;\n",
              "    border-bottom-color: var(--fill-color);\n",
              "    animation:\n",
              "      spin 1s steps(1) infinite;\n",
              "  }\n",
              "\n",
              "  @keyframes spin {\n",
              "    0% {\n",
              "      border-color: transparent;\n",
              "      border-bottom-color: var(--fill-color);\n",
              "      border-left-color: var(--fill-color);\n",
              "    }\n",
              "    20% {\n",
              "      border-color: transparent;\n",
              "      border-left-color: var(--fill-color);\n",
              "      border-top-color: var(--fill-color);\n",
              "    }\n",
              "    30% {\n",
              "      border-color: transparent;\n",
              "      border-left-color: var(--fill-color);\n",
              "      border-top-color: var(--fill-color);\n",
              "      border-right-color: var(--fill-color);\n",
              "    }\n",
              "    40% {\n",
              "      border-color: transparent;\n",
              "      border-right-color: var(--fill-color);\n",
              "      border-top-color: var(--fill-color);\n",
              "    }\n",
              "    60% {\n",
              "      border-color: transparent;\n",
              "      border-right-color: var(--fill-color);\n",
              "    }\n",
              "    80% {\n",
              "      border-color: transparent;\n",
              "      border-right-color: var(--fill-color);\n",
              "      border-bottom-color: var(--fill-color);\n",
              "    }\n",
              "    90% {\n",
              "      border-color: transparent;\n",
              "      border-bottom-color: var(--fill-color);\n",
              "    }\n",
              "  }\n",
              "</style>\n",
              "\n",
              "  <script>\n",
              "    async function quickchart(key) {\n",
              "      const quickchartButtonEl =\n",
              "        document.querySelector('#' + key + ' button');\n",
              "      quickchartButtonEl.disabled = true;  // To prevent multiple clicks.\n",
              "      quickchartButtonEl.classList.add('colab-df-spinner');\n",
              "      try {\n",
              "        const charts = await google.colab.kernel.invokeFunction(\n",
              "            'suggestCharts', [key], {});\n",
              "      } catch (error) {\n",
              "        console.error('Error during call to suggestCharts:', error);\n",
              "      }\n",
              "      quickchartButtonEl.classList.remove('colab-df-spinner');\n",
              "      quickchartButtonEl.classList.add('colab-df-quickchart-complete');\n",
              "    }\n",
              "    (() => {\n",
              "      let quickchartButtonEl =\n",
              "        document.querySelector('#df-d1af756f-b932-4803-9d79-ebf81ad42204 button');\n",
              "      quickchartButtonEl.style.display =\n",
              "        google.colab.kernel.accessAllowed ? 'block' : 'none';\n",
              "    })();\n",
              "  </script>\n",
              "</div>\n",
              "    </div>\n",
              "  </div>\n"
            ]
          },
          "metadata": {},
          "execution_count": 4
        }
      ],
      "source": [
        "# Leemos los datos del dataset en español de la primera sesión\n",
        "data = pd.read_csv(\"datasetEspañol.csv\",encoding=\"UTF-8\")\n",
        "data.tail()"
      ]
    },
    {
      "cell_type": "markdown",
      "metadata": {
        "id": "-oPOoOqEf5NG"
      },
      "source": [
        "## Apartado 1.1 - Obtener TF del conjunto de texto (Resuelto)\n",
        "\n",
        "Calculamos la matriz de TF usando la clase CountVectorizer sobre un conjunto de textos.\n",
        "\n",
        "Se puede consultar información de esta clase en la siguiente URL:\n",
        "https://scikit-learn.org/stable/modules/generated/sklearn.feature_extraction.text.CountVectorizer.html#sklearn.feature_extraction.text.CountVectorizer\n",
        "\n",
        "Hay que tener en cuenta que esta clase tiene muchos parámetros en su método de creación."
      ]
    },
    {
      "cell_type": "code",
      "execution_count": 5,
      "metadata": {
        "id": "g1axNe99hQG0",
        "colab": {
          "base_uri": "https://localhost:8080/"
        },
        "outputId": "2f63362d-dc24-4ca5-b9ee-4a7adf4e718c"
      },
      "outputs": [
        {
          "output_type": "stream",
          "name": "stdout",
          "text": [
            "(3, 36)\n",
            "La asignatura de TGINE es una asignatura del máster de BigData que se estudia en la Universidad de Murcia.\n",
            "En la asignatura de máster vemos una introducción al procesamiento del lenguaje natural y tecnologías de procesamiento\n",
            "de información no estructurada.\n",
            "\n",
            "  (0, 16)\t3\n",
            "  (0, 1)\t3\n",
            "  (0, 4)\t6\n",
            "  (0, 31)\t1\n",
            "  (0, 8)\t1\n",
            "  (0, 32)\t2\n",
            "  (0, 5)\t2\n",
            "  (0, 21)\t2\n",
            "  (0, 2)\t1\n",
            "  (0, 27)\t1\n",
            "  (0, 29)\t1\n",
            "  (0, 10)\t1\n",
            "  (0, 7)\t2\n",
            "  (0, 33)\t1\n",
            "  (0, 20)\t1\n",
            "  (0, 35)\t1\n",
            "  (0, 15)\t1\n",
            "  (0, 0)\t1\n",
            "  (0, 25)\t2\n",
            "  (0, 18)\t1\n",
            "  (0, 22)\t1\n",
            "  (0, 30)\t1\n",
            "  (0, 14)\t1\n",
            "  (0, 24)\t1\n",
            "  (0, 9)\t1\n",
            "No me gusta el chocolate ni las fresas\n",
            "  (0, 24)\t1\n",
            "  (0, 19)\t1\n",
            "  (0, 13)\t1\n",
            "  (0, 6)\t1\n",
            "  (0, 3)\t1\n",
            "  (0, 23)\t1\n",
            "  (0, 17)\t1\n",
            "  (0, 11)\t1\n",
            "El profesor de la asignatura TGINE es Rafael Valencia García.\n",
            "\n",
            "  (0, 16)\t1\n",
            "  (0, 1)\t1\n",
            "  (0, 4)\t1\n",
            "  (0, 31)\t1\n",
            "  (0, 8)\t1\n",
            "  (0, 6)\t1\n",
            "  (0, 26)\t1\n",
            "  (0, 28)\t1\n",
            "  (0, 34)\t1\n",
            "  (0, 12)\t1\n",
            "Mostramos los items del diccionario\n",
            "dict_items([('la', 16), ('asignatura', 1), ('de', 4), ('tgine', 31), ('es', 8), ('una', 32), ('del', 5), ('máster', 21), ('bigdata', 2), ('que', 27), ('se', 29), ('estudia', 10), ('en', 7), ('universidad', 33), ('murcia', 20), ('vemos', 35), ('introducción', 15), ('al', 0), ('procesamiento', 25), ('lenguaje', 18), ('natural', 22), ('tecnologías', 30), ('información', 14), ('no', 24), ('estructurada', 9), ('me', 19), ('gusta', 13), ('el', 6), ('chocolate', 3), ('ni', 23), ('las', 17), ('fresas', 11), ('profesor', 26), ('rafael', 28), ('valencia', 34), ('garcía', 12)])\n",
            "Tamaño vocabulario: 36\n",
            "Código de la palabra TGINE es: 31\n"
          ]
        }
      ],
      "source": [
        "texto = \"\"\"La asignatura de TGINE es una asignatura del máster de BigData que se estudia en la Universidad de Murcia.\n",
        "En la asignatura de máster vemos una introducción al procesamiento del lenguaje natural y tecnologías de procesamiento\n",
        "de información no estructurada.\n",
        "\"\"\"\n",
        "texto2 = \"No me gusta el chocolate ni las fresas\"\n",
        "\n",
        "texto3 = \"\"\"El profesor de la asignatura TGINE es Rafael Valencia García.\n",
        "\"\"\"\n",
        "# Calculamos la matriz de TF usando la función fit_transform\n",
        "count_vect = CountVectorizer()\n",
        "X_counts = count_vect.fit_transform([texto,texto2,texto3])\n",
        "\n",
        "# Mostramos entonces el número de textos y el número de tokens únicos\n",
        "print(X_counts.shape)\n",
        "\n",
        "# X_counts es una matriz dispersa con el TF de cada token en cada texto\n",
        "# Imprimimos los textos y su correspondientes TF\n",
        "print(texto)\n",
        "print(X_counts[0])\n",
        "print(texto2)\n",
        "print(X_counts[1])\n",
        "print(texto3)\n",
        "print(X_counts[2])\n",
        "\n",
        "#Los tokens de todo el vocabulario se representan con ids que hacen referencia a cada token.\n",
        "print(\"Mostramos los items del diccionario\")\n",
        "print(count_vect.vocabulary_.items())\n",
        "print(\"Tamaño vocabulario:\", str(len(count_vect.vocabulary_.items())))\n",
        "\n",
        "#Mostramos el código de una palabra determinada\n",
        "#hay que tener en cuenta que todos los tokens se guardan en minúsculas\n",
        "palabra_a_buscar=\"TGINE\"\n",
        "print(\"Código de la palabra\", palabra_a_buscar, \"es:\", count_vect.vocabulary_.get(palabra_a_buscar.lower()))"
      ]
    },
    {
      "cell_type": "markdown",
      "metadata": {
        "id": "r1hMjf7pTYDl"
      },
      "source": [
        "## Apartado 1.2 Calculamos el TF sin tener en cuenta las stopwords\n",
        "Para eso hacemos uso del parámetro stop_words de CountVectorizer"
      ]
    },
    {
      "cell_type": "code",
      "execution_count": 8,
      "metadata": {
        "id": "2xBK8v0wTYDl",
        "colab": {
          "base_uri": "https://localhost:8080/"
        },
        "outputId": "08248f50-00cc-4b72-bb40-d2a0c28ffbbf"
      },
      "outputs": [
        {
          "output_type": "stream",
          "name": "stdout",
          "text": [
            "(3, 22)\n",
            "La asignatura de TGINE es una asignatura del máster de BigData que se estudia en la Universidad de Murcia.\n",
            "En la asignatura de máster vemos una introducción al procesamiento del lenguaje natural y tecnologías de procesamiento\n",
            "de información no estructurada.\n",
            "\n",
            "  (0, 0)\t3\n",
            "  (0, 18)\t1\n",
            "  (0, 12)\t2\n",
            "  (0, 1)\t1\n",
            "  (0, 4)\t1\n",
            "  (0, 19)\t1\n",
            "  (0, 11)\t1\n",
            "  (0, 21)\t1\n",
            "  (0, 9)\t1\n",
            "  (0, 14)\t2\n",
            "  (0, 10)\t1\n",
            "  (0, 13)\t1\n",
            "  (0, 17)\t1\n",
            "  (0, 8)\t1\n",
            "  (0, 3)\t1\n",
            "No me gusta el chocolate ni las fresas\n",
            "  (0, 7)\t1\n",
            "  (0, 2)\t1\n",
            "  (0, 5)\t1\n",
            "El profesor de la asignatura TGINE es Rafael Valencia García.\n",
            "\n",
            "  (0, 0)\t1\n",
            "  (0, 18)\t1\n",
            "  (0, 15)\t1\n",
            "  (0, 16)\t1\n",
            "  (0, 20)\t1\n",
            "  (0, 6)\t1\n",
            "Mostramos los items del diccionario\n",
            "dict_items([('asignatura', 0), ('tgine', 18), ('máster', 12), ('bigdata', 1), ('estudia', 4), ('universidad', 19), ('murcia', 11), ('vemos', 21), ('introducción', 9), ('procesamiento', 14), ('lenguaje', 10), ('natural', 13), ('tecnologías', 17), ('información', 8), ('estructurada', 3), ('gusta', 7), ('chocolate', 2), ('fresas', 5), ('profesor', 15), ('rafael', 16), ('valencia', 20), ('garcía', 6)])\n"
          ]
        },
        {
          "output_type": "stream",
          "name": "stderr",
          "text": [
            "[nltk_data] Downloading package stopwords to /root/nltk_data...\n",
            "[nltk_data]   Package stopwords is already up-to-date!\n"
          ]
        }
      ],
      "source": [
        "import nltk\n",
        "# Descargamos las stopwords de NLTK\n",
        "# Si no tenemos instalado NLTK lo instalamos\n",
        "# !pip3 install -U nltk\n",
        "nltk.download('stopwords')\n",
        "stopwords = nltk.corpus.stopwords.words('spanish')\n",
        "\n",
        "# Calculamos la matriz de TF usando la función fit_transform\n",
        "count_vect = CountVectorizer(stop_words=stopwords)\n",
        "X_counts = count_vect.fit_transform([texto,texto2,texto3])\n",
        "\n",
        "# Mostramos entonces el número de textos y el número de tokens únicos\n",
        "print(X_counts.shape)\n",
        "\n",
        "# X_counts es una matriz dispersa con el TF de cada token en cada texto\n",
        "# Imprimimos los textos y su correspondientes TF\n",
        "print(texto)\n",
        "print(X_counts[0])\n",
        "print(texto2)\n",
        "print(X_counts[1])\n",
        "print(texto3)\n",
        "print(X_counts[2])\n",
        "\n",
        "#Los tokens de todo el vocabulario se representan con ids que hacen referencia a cada token.\n",
        "print(\"Mostramos los items del diccionario\")\n",
        "print(count_vect.vocabulary_.items())"
      ]
    },
    {
      "cell_type": "markdown",
      "metadata": {
        "id": "fn7dSDhxjE4R"
      },
      "source": [
        "## Apartado 1.3 TF-IDF (Resuelto)\n",
        "Obtenemos el TF-IDF utilizando la clase TfidfTransformer"
      ]
    },
    {
      "cell_type": "code",
      "execution_count": 7,
      "metadata": {
        "id": "03E_i6avjAiz",
        "colab": {
          "base_uri": "https://localhost:8080/"
        },
        "outputId": "6fd7d4d2-25c2-4747-b9cc-ee3c8c339314"
      },
      "outputs": [
        {
          "output_type": "stream",
          "name": "stdout",
          "text": [
            "(3, 36)\n",
            "La asignatura de TGINE es una asignatura del máster de BigData que se estudia en la Universidad de Murcia.\n",
            "En la asignatura de máster vemos una introducción al procesamiento del lenguaje natural y tecnologías de procesamiento\n",
            "de información no estructurada.\n",
            "\n",
            "  (0, 35)\t0.12219792805314982\n",
            "  (0, 33)\t0.12219792805314982\n",
            "  (0, 32)\t0.24439585610629963\n",
            "  (0, 31)\t0.09293467399139821\n",
            "  (0, 30)\t0.12219792805314982\n",
            "  (0, 29)\t0.12219792805314982\n",
            "  (0, 27)\t0.12219792805314982\n",
            "  (0, 25)\t0.24439585610629963\n",
            "  (0, 24)\t0.09293467399139821\n",
            "  (0, 22)\t0.12219792805314982\n",
            "  (0, 21)\t0.24439585610629963\n",
            "  (0, 20)\t0.12219792805314982\n",
            "  (0, 18)\t0.12219792805314982\n",
            "  (0, 16)\t0.2788040219741946\n",
            "  (0, 15)\t0.12219792805314982\n",
            "  (0, 14)\t0.12219792805314982\n",
            "  (0, 10)\t0.12219792805314982\n",
            "  (0, 9)\t0.12219792805314982\n",
            "  (0, 8)\t0.09293467399139821\n",
            "  (0, 7)\t0.24439585610629963\n",
            "  (0, 5)\t0.24439585610629963\n",
            "  (0, 4)\t0.5576080439483893\n",
            "  (0, 2)\t0.12219792805314982\n",
            "  (0, 1)\t0.2788040219741946\n",
            "  (0, 0)\t0.12219792805314982\n",
            "No me gusta el chocolate ni las fresas\n",
            "  (0, 24)\t0.2842853829563292\n",
            "  (0, 23)\t0.37380111513895253\n",
            "  (0, 19)\t0.37380111513895253\n",
            "  (0, 17)\t0.37380111513895253\n",
            "  (0, 13)\t0.37380111513895253\n",
            "  (0, 11)\t0.37380111513895253\n",
            "  (0, 6)\t0.2842853829563292\n",
            "  (0, 3)\t0.37380111513895253\n",
            "El profesor de la asignatura TGINE es Rafael Valencia García.\n",
            "\n",
            "  (0, 34)\t0.3658711510755993\n",
            "  (0, 31)\t0.2782544408877313\n",
            "  (0, 28)\t0.3658711510755993\n",
            "  (0, 26)\t0.3658711510755993\n",
            "  (0, 16)\t0.2782544408877313\n",
            "  (0, 12)\t0.3658711510755993\n",
            "  (0, 8)\t0.2782544408877313\n",
            "  (0, 6)\t0.2782544408877313\n",
            "  (0, 4)\t0.2782544408877313\n",
            "  (0, 1)\t0.2782544408877313\n"
          ]
        }
      ],
      "source": [
        "from sklearn.feature_extraction.text import TfidfTransformer\n",
        "\n",
        "tfidf_transformer = TfidfTransformer()\n",
        "X_TFIDF = tfidf_transformer.fit_transform(X_counts)\n",
        "\n",
        "# Mostramos entonces el número de textos y el número de tokens únicos\n",
        "print(X_TFIDF.shape)\n",
        "\n",
        "# X_counts es una matriz dispersa con el TF de cada token en cada texto\n",
        "# Imprimimos los textos y su correspondientes TF\n",
        "print(texto)\n",
        "print(X_TFIDF[0])\n",
        "print(texto2)\n",
        "print(X_TFIDF[1])\n",
        "print(texto3)\n",
        "print(X_TFIDF[2])"
      ]
    },
    {
      "cell_type": "markdown",
      "metadata": {
        "id": "liEFSQ-rpfBd"
      },
      "source": [
        "## Apartado 1.4 BM25 (Resuelto)\n",
        "\n",
        "Calculamos el BM25 que tiene en cuenta tanto la transformación del TF como la normalización de la longitud del documento."
      ]
    },
    {
      "cell_type": "code",
      "execution_count": 10,
      "metadata": {
        "id": "fCDDgaBwpepN",
        "colab": {
          "base_uri": "https://localhost:8080/"
        },
        "outputId": "9e651279-754b-4290-f33b-2adbec15df5e"
      },
      "outputs": [
        {
          "output_type": "stream",
          "name": "stdout",
          "text": [
            "(3, 22)\n",
            "La asignatura de TGINE es una asignatura del máster de BigData que se estudia en la Universidad de Murcia.\n",
            "En la asignatura de máster vemos una introducción al procesamiento del lenguaje natural y tecnologías de procesamiento\n",
            "de información no estructurada.\n",
            "\n",
            "  (0, 21)\t0.23496100930921784\n",
            "  (0, 19)\t0.23496100930921784\n",
            "  (0, 18)\t0.17869390380616346\n",
            "  (0, 17)\t0.23496100930921784\n",
            "  (0, 14)\t0.35619845317922905\n",
            "  (0, 13)\t0.23496100930921784\n",
            "  (0, 12)\t0.35619845317922905\n",
            "  (0, 11)\t0.23496100930921784\n",
            "  (0, 10)\t0.23496100930921784\n",
            "  (0, 9)\t0.23496100930921784\n",
            "  (0, 8)\t0.23496100930921784\n",
            "  (0, 4)\t0.23496100930921784\n",
            "  (0, 3)\t0.23496100930921784\n",
            "  (0, 1)\t0.23496100930921784\n",
            "  (0, 0)\t0.3271702581169214\n",
            "No me gusta el chocolate ni las fresas\n",
            "  (0, 7)\t0.5773502691896257\n",
            "  (0, 5)\t0.5773502691896257\n",
            "  (0, 2)\t0.5773502691896257\n",
            "El profesor de la asignatura TGINE es Rafael Valencia García.\n",
            "\n",
            "  (0, 20)\t0.4403620672313486\n",
            "  (0, 18)\t0.3349067026613031\n",
            "  (0, 16)\t0.4403620672313486\n",
            "  (0, 15)\t0.4403620672313486\n",
            "  (0, 6)\t0.4403620672313486\n",
            "  (0, 0)\t0.3349067026613031\n"
          ]
        }
      ],
      "source": [
        "bm25_transformer = BM25Transformer()\n",
        "X_BM25 = bm25_transformer.fit_transform(X_counts)\n",
        "\n",
        "# Mostramos entonces el número de textos y el número de tokens únicos\n",
        "print(X_BM25.shape)\n",
        "\n",
        "# X_counts es una matriz dispersa con el TF de cada token en cada texto\n",
        "# Imprimimos los textos y su correspondientes TF\n",
        "print(texto)\n",
        "print(X_BM25[0])\n",
        "print(texto2)\n",
        "print(X_BM25[1])\n",
        "print(texto3)\n",
        "print(X_BM25[2])"
      ]
    },
    {
      "cell_type": "markdown",
      "metadata": {
        "id": "EHsOfKhgeaCw"
      },
      "source": [
        "# Apartado 1.5 Desarrollamos un simple buscador con TFIDF y BM25 (Resuelto)\n",
        "\n",
        "A continuación vamos a procesar los tuits del archivo de la primera sesión \"datosEspañol.csv\" y calculamos el TF, el TFIDF y el BM25 de manera similar a como se ha hecho anteriormente."
      ]
    },
    {
      "cell_type": "code",
      "execution_count": 26,
      "metadata": {
        "id": "Sxt-6GdmzVlA",
        "colab": {
          "base_uri": "https://localhost:8080/"
        },
        "outputId": "ea65cdbc-087e-4d3b-9e35-1609e65d9675"
      },
      "outputs": [
        {
          "output_type": "stream",
          "name": "stdout",
          "text": [
            "(5959, 75058)\n",
            "Hoy merendola deliciosa! Latte Macchiato Caramelo con Leche Condensada y Gofre! ???. #yomequedoencasa #todovaasalirbien #undiamenos #actitudpositiva #lattemacchiato #gofre #delicious #strong #stronger #smile…\n",
            "  (0, 3919)\t1\n",
            "  (0, 37525)\t1\n",
            "  (0, 53991)\t1\n",
            "  (0, 68896)\t2\n",
            "  (0, 3970)\t1\n",
            "  (0, 37673)\t1\n",
            "  (0, 53992)\t1\n",
            "  (0, 3980)\t1\n",
            "  (0, 37674)\t1\n",
            "  (0, 4410)\t2\n",
            "  (0, 46100)\t4\n",
            "  (0, 32964)\t2\n",
            "  (0, 56882)\t3\n",
            "  (0, 32330)\t5\n",
            "  (0, 48129)\t3\n",
            "  (0, 29487)\t3\n",
            "  (0, 51933)\t1\n",
            "  (0, 43048)\t3\n",
            "  (0, 19847)\t4\n",
            "  (0, 4444)\t1\n",
            "  (0, 46246)\t1\n",
            "  (0, 33084)\t1\n",
            "  (0, 57077)\t1\n",
            "  (0, 32423)\t1\n",
            "  (0, 48233)\t1\n",
            "  :\t:\n",
            "  (0, 35873)\t1\n",
            "  (0, 56007)\t1\n",
            "  (0, 48716)\t1\n",
            "  (0, 35963)\t1\n",
            "  (0, 32965)\t1\n",
            "  (0, 52455)\t1\n",
            "  (0, 48727)\t1\n",
            "  (0, 35964)\t1\n",
            "  (0, 61203)\t1\n",
            "  (0, 46373)\t1\n",
            "  (0, 39409)\t1\n",
            "  (0, 34541)\t1\n",
            "  (0, 73508)\t1\n",
            "  (0, 9191)\t1\n",
            "  (0, 61241)\t1\n",
            "  (0, 46462)\t1\n",
            "  (0, 39479)\t1\n",
            "  (0, 43924)\t1\n",
            "  (0, 34542)\t1\n",
            "  (0, 565)\t1\n",
            "  (0, 9193)\t1\n",
            "  (0, 61247)\t1\n",
            "  (0, 46469)\t1\n",
            "  (0, 39489)\t1\n",
            "  (0, 43925)\t1\n"
          ]
        }
      ],
      "source": [
        "# Calculamos la matriz de TF usando la función fit_transform\n",
        "count_vect = CountVectorizer(stop_words=stopwords,analyzer='char_wb',ngram_range=(2,4))\n",
        "X_counts = count_vect.fit_transform(data['tweet'])\n",
        "\n",
        "# Mostramos entonces el número de textos y el número de tokens únicos\n",
        "print(X_counts.shape)\n",
        "\n",
        "# X_counts es una matriz dispersa con el TF de cada token en cada texto\n",
        "# Imprimimos el primer tuit y su correspondientes TF\n",
        "print(data['tweet'][0])\n",
        "print(X_counts[0])"
      ]
    },
    {
      "cell_type": "code",
      "execution_count": 27,
      "metadata": {
        "id": "CC1CNRQlATwZ",
        "colab": {
          "base_uri": "https://localhost:8080/"
        },
        "outputId": "c87e7902-9fd2-4432-d0c4-21ec441e8b6a"
      },
      "outputs": [
        {
          "output_type": "execute_result",
          "data": {
            "text/plain": [
              "45658"
            ]
          },
          "metadata": {},
          "execution_count": 27
        }
      ],
      "source": [
        "# El vocabulario que forma los tokens del objeto vectorizer se puede obtener de la siguiente manera\n",
        "# obtenemos el id del token 'buenosdias' que proviene de un hashtag\n",
        "count_vect.vocabulary_.get('ma')"
      ]
    },
    {
      "cell_type": "code",
      "execution_count": 28,
      "metadata": {
        "id": "R9in80glzWGo",
        "colab": {
          "base_uri": "https://localhost:8080/"
        },
        "outputId": "1c241829-430e-4493-b047-b017d2e6df19"
      },
      "outputs": [
        {
          "output_type": "stream",
          "name": "stdout",
          "text": [
            "(5959, 75058)\n",
            "Hoy merendola deliciosa! Latte Macchiato Caramelo con Leche Condensada y Gofre! ???. #yomequedoencasa #todovaasalirbien #undiamenos #actitudpositiva #lattemacchiato #gofre #delicious #strong #stronger #smile…\n",
            "  (0, 73508)\t0.038151998348942874\n",
            "  (0, 69488)\t0.01527459292431274\n",
            "  (0, 69485)\t0.015264891882786681\n",
            "  (0, 69420)\t0.01390320178764495\n",
            "  (0, 68896)\t0.026449094151829902\n",
            "  (0, 67360)\t0.04645736145378926\n",
            "  (0, 67353)\t0.04447216063016657\n",
            "  (0, 67324)\t0.0303982876433005\n",
            "  (0, 67323)\t0.03830681221330172\n",
            "  (0, 66689)\t0.024062012172788815\n",
            "  (0, 66688)\t0.017286599186831054\n",
            "  (0, 66250)\t0.04011458481486977\n",
            "  (0, 66246)\t0.030378182236969708\n",
            "  (0, 66199)\t0.012983135166850247\n",
            "  (0, 65504)\t0.015114375472943573\n",
            "  (0, 65500)\t0.010733443552796137\n",
            "  (0, 65463)\t0.008942421505402512\n",
            "  (0, 65430)\t0.06872301294265747\n",
            "  (0, 65428)\t0.05583190501688521\n",
            "  (0, 65330)\t0.02321751134107109\n",
            "  (0, 64523)\t0.06872301294265747\n",
            "  (0, 64510)\t0.04044689336494614\n",
            "  (0, 64474)\t0.02098018738678575\n",
            "  (0, 64436)\t0.07445767647103096\n",
            "  (0, 64432)\t0.07445767647103096\n",
            "  :\t:\n",
            "  (0, 3317)\t0.027999418909799685\n",
            "  (0, 3242)\t0.03727517460846098\n",
            "  (0, 3227)\t0.019491141597317727\n",
            "  (0, 3212)\t0.0329227729081685\n",
            "  (0, 2106)\t0.031223137402354044\n",
            "  (0, 2097)\t0.02477508578483154\n",
            "  (0, 2027)\t0.018266737599457343\n",
            "  (0, 639)\t0.014888980267334182\n",
            "  (0, 634)\t0.014799902834204464\n",
            "  (0, 605)\t0.04192822574500547\n",
            "  (0, 596)\t0.03896111532619116\n",
            "  (0, 588)\t0.0361128457653432\n",
            "  (0, 578)\t0.029359215006941882\n",
            "  (0, 570)\t0.07599850972081966\n",
            "  (0, 565)\t0.060353663667103055\n",
            "  (0, 553)\t0.07212994584613172\n",
            "  (0, 460)\t0.03901797720385848\n",
            "  (0, 457)\t0.030664203779720206\n",
            "  (0, 398)\t0.039795109963630795\n",
            "  (0, 387)\t0.030938951423123185\n",
            "  (0, 339)\t0.03387452016959885\n",
            "  (0, 336)\t0.027226906265575033\n",
            "  (0, 276)\t0.04591465082323036\n",
            "  (0, 273)\t0.026529927803662832\n",
            "  (0, 188)\t0.08320702851080473\n",
            "(5959, 75058)\n",
            "Hoy merendola deliciosa! Latte Macchiato Caramelo con Leche Condensada y Gofre! ???. #yomequedoencasa #todovaasalirbien #undiamenos #actitudpositiva #lattemacchiato #gofre #delicious #strong #stronger #smile…\n",
            "  (0, 73508)\t0.04543507595410446\n",
            "  (0, 69488)\t0.018190457111492444\n",
            "  (0, 69485)\t0.018178904176452473\n",
            "  (0, 69420)\t0.01655727239892776\n",
            "  (0, 68896)\t0.021996854246480096\n",
            "  (0, 67360)\t0.05532590264275596\n",
            "  (0, 67353)\t0.05296173420836656\n",
            "  (0, 67324)\t0.03620121009955807\n",
            "  (0, 67323)\t0.03185853398480126\n",
            "  (0, 66689)\t0.028655362706827604\n",
            "  (0, 66688)\t0.020586548045486375\n",
            "  (0, 66250)\t0.047772313032234\n",
            "  (0, 66246)\t0.036177266644345764\n",
            "  (0, 66199)\t0.015461568409419646\n",
            "  (0, 65504)\t0.017999654731875207\n",
            "  (0, 65500)\t0.01278241885549615\n",
            "  (0, 65463)\t0.010649497218874726\n",
            "  (0, 65430)\t0.0818419859501557\n",
            "  (0, 65428)\t0.06649001244714128\n",
            "  (0, 65330)\t0.027649649740459165\n",
            "  (0, 64523)\t0.0818419859501557\n",
            "  (0, 64510)\t0.04816805807486127\n",
            "  (0, 64474)\t0.024985228787533943\n",
            "  (0, 64436)\t0.08867137587096181\n",
            "  (0, 64432)\t0.08867137587096181\n",
            "  :\t:\n",
            "  (0, 3317)\t0.023286209093190843\n",
            "  (0, 3242)\t0.04439086975334956\n",
            "  (0, 3227)\t0.023211929577232063\n",
            "  (0, 3212)\t0.021035526686135602\n",
            "  (0, 2106)\t0.03718352067502392\n",
            "  (0, 2097)\t0.029504559475702134\n",
            "  (0, 2027)\t0.021753791313215358\n",
            "  (0, 639)\t0.017731232401991214\n",
            "  (0, 634)\t0.01762515041113378\n",
            "  (0, 605)\t0.049932171413976434\n",
            "  (0, 596)\t0.0463986504169884\n",
            "  (0, 588)\t0.043006656565151895\n",
            "  (0, 578)\t0.03496378227931668\n",
            "  (0, 570)\t0.06320549700802931\n",
            "  (0, 565)\t0.07187495836372836\n",
            "  (0, 553)\t0.046086379326188615\n",
            "  (0, 460)\t0.04646636702011567\n",
            "  (0, 457)\t0.036517888658441106\n",
            "  (0, 398)\t0.04739185159483536\n",
            "  (0, 387)\t0.03684508462684236\n",
            "  (0, 339)\t0.04034104276105927\n",
            "  (0, 336)\t0.032424423561183156\n",
            "  (0, 276)\t0.0546795905283808\n",
            "  (0, 273)\t0.03159439444801003\n",
            "  (0, 188)\t0.02027460582764165\n"
          ]
        }
      ],
      "source": [
        "# Calculamos ahora el TFIDF\n",
        "X_TFIDF = tfidf_transformer.fit_transform(X_counts)\n",
        "# Mostramos entonces el número de textos y el número de tokens únicos\n",
        "print(X_TFIDF.shape)\n",
        "\n",
        "# X_counts es una matriz dispersa con el TF de cada token en cada texto\n",
        "# Imprimimos el primer tuit y su correspondientes TF\n",
        "print(data['tweet'][0])\n",
        "print(X_TFIDF[0])\n",
        "\n",
        "# Calculamos también el BM25\n",
        "X_BM25 = bm25_transformer.fit_transform(X_counts)\n",
        "# Mostramos entonces el número de textos y el número de tokens únicos\n",
        "print(X_BM25.shape)\n",
        "\n",
        "# X_counts es una matriz dispersa con el TF de cada token en cada texto\n",
        "# Imprimimos el primer tuit y su correspondientes TF\n",
        "print(data['tweet'][0])\n",
        "print(X_BM25[0])"
      ]
    },
    {
      "cell_type": "code",
      "execution_count": 29,
      "metadata": {
        "id": "0b40Vpc8zjAl",
        "colab": {
          "base_uri": "https://localhost:8080/"
        },
        "outputId": "d15153f5-eb01-48f3-8468-f5ea93950f3c"
      },
      "outputs": [
        {
          "output_type": "stream",
          "name": "stdout",
          "text": [
            "(5959, 75058)\n",
            "(5959, 75058)\n"
          ]
        }
      ],
      "source": [
        "# Podemos ver que el tamaño de la matriz de textos y el número total de tokens es el mismo tanto\n",
        "# para TFIDF como para BM25\n",
        "print(X_TFIDF.shape) # (Number of tweets, Number of unique words)\n",
        "print(X_BM25.shape)"
      ]
    },
    {
      "cell_type": "markdown",
      "metadata": {
        "id": "bNqweJpqfpcS"
      },
      "source": [
        "Realizamos una consulta cualquiera y la metemos en el string \"query\" para a continuación calcular la similitud del coseno usando el TF-IDF y el BM25"
      ]
    },
    {
      "cell_type": "code",
      "execution_count": 15,
      "metadata": {
        "id": "qQg-FiyLz1mZ"
      },
      "outputs": [],
      "source": [
        "query = \"semana santa\""
      ]
    },
    {
      "cell_type": "code",
      "execution_count": 16,
      "metadata": {
        "id": "eS-z3SCdz7y6",
        "colab": {
          "base_uri": "https://localhost:8080/"
        },
        "outputId": "c06fac21-4b68-4935-c419-ca2ccf88e97d"
      },
      "outputs": [
        {
          "output_type": "stream",
          "name": "stdout",
          "text": [
            "Aunque sean unos momentos difíciles, debemos tomarlo con el mayor positivismo posible! La Semana Santa no es sólo salir a beber y a ver procesiones, es mucho más que eso. Disfrutemos de esta semana de una forma verdadera! Feliz Domingo de Ramos y Semana Santa!!! #YoMeQuedoEnCasa -- 0.5341953468689503 -- 804\n",
            "Es tiempo de recogimiento ?. Esta Semana Santa no se sale. #SemanaSanta #YoMeQuedoEnCasa #QuedateEnCasa -- 0.4618900044681435 -- 4863\n",
            "Buen dia amigos espero que estén todos bien!!! Feliz inicio de semana arriba ese ánimo todo lo mejor, que sea una Semana Santa de bendiciones!!! A cuidarse . #QuedateEnCasa -- 0.450087834395828 -- 31\n",
            "Esta Semana Santa quiero salvar vidas: #YoMeQuedoEnCasa . Si te vas de “vacaciones”, ¿cuántas muertes caerán sobre tus espaldas la semana que viene...?. #QuedateEnTuCasa ?? -- 0.40809989875165054 -- 1372\n",
            "¡Feliz Semana Santa! Aunque sea en casa ?. #AyudaADomicilio #Mayores #QuéDateEnCasa #Santander #Cantabria -- 0.4044128930022517 -- 1967\n",
            "La procesión de carros de compra que estoy viendo desde mi balcón sirve como Semana Santa? #YoMeQuedoEnCasa -- 0.38389199667649315 -- 156\n",
            "Último día de teletrabajo hasta después de Semana Santa ???. Gracias equipo TeSera por vuestro compromiso y responsabilidad #todosjuntospodemos #yomequedoencasa ?????? -- 0.3505556476212133 -- 1353\n",
            "#QuedateEnCasa #YoMeQuedoEnCasa #COVIDー19 #JuntosNosCuidamos Disfrutando de la Semana Santa atraves de la plataforma @NefliCofrades ¡MUCHAS GRACIAS A TODO EL EQUIPO! ???? -- 0.3428389048110612 -- 813\n",
            "¡Feliz Semana Santa en casa!. Laboratorios Mahen, ¡siente la conexión con la naturaleza! ?. #SemanaSanta #YoMeQuedoEnCasa #LaboratoriosMahen -- 0.3365134481837606 -- 1327\n",
            "A este paso no creo que las escuelas abran hasta después de Semana Santa y ya veremos si más allá. #coronavirus #COVID19 #quedatencasa #estadodealarma -- 0.33605409906504957 -- 4170\n"
          ]
        }
      ],
      "source": [
        "# Transformamos la query a TF-ID y sacamos los resultados de la comparación con la función del coseno\n",
        "# cosine_similarity\n",
        "query_vec = count_vect.transform([query]) # Ip -- (n_docs,x), Op -- (n_docs,n_Feats)\n",
        "query_vec_TFIDF = tfidf_transformer.fit_transform(query_vec)\n",
        "results = cosine_similarity(X_TFIDF,query_vec_TFIDF).reshape((-1,)) # Op -- (n_docs,1) -- Cosine Sim with each doc\n",
        "\n",
        "# Immprimimos a continuación los primeros 10 resultados ordenados por la similitud obtenida\n",
        "for i in results.argsort()[-10:][::-1]:\n",
        "    print(data.iloc[i,2],\"--\",results[i],\"--\",i)"
      ]
    },
    {
      "cell_type": "code",
      "execution_count": 17,
      "metadata": {
        "id": "rOKu2It3FRq9",
        "colab": {
          "base_uri": "https://localhost:8080/"
        },
        "outputId": "991813c6-312e-4405-f289-07a15faee336"
      },
      "outputs": [
        {
          "output_type": "stream",
          "name": "stdout",
          "text": [
            "Es tiempo de recogimiento ?. Esta Semana Santa no se sale. #SemanaSanta #YoMeQuedoEnCasa #QuedateEnCasa -- 0.46189000446814343 -- 4863\n",
            "¡Feliz Semana Santa! Aunque sea en casa ?. #AyudaADomicilio #Mayores #QuéDateEnCasa #Santander #Cantabria -- 0.4044128930022516 -- 1967\n",
            "La procesión de carros de compra que estoy viendo desde mi balcón sirve como Semana Santa? #YoMeQuedoEnCasa -- 0.3838919966764931 -- 156\n",
            "Aunque sean unos momentos difíciles, debemos tomarlo con el mayor positivismo posible! La Semana Santa no es sólo salir a beber y a ver procesiones, es mucho más que eso. Disfrutemos de esta semana de una forma verdadera! Feliz Domingo de Ramos y Semana Santa!!! #YoMeQuedoEnCasa -- 0.3810789571546703 -- 804\n",
            "Buen dia amigos espero que estén todos bien!!! Feliz inicio de semana arriba ese ánimo todo lo mejor, que sea una Semana Santa de bendiciones!!! A cuidarse . #QuedateEnCasa -- 0.38098584294080773 -- 31\n",
            "Último día de teletrabajo hasta después de Semana Santa ???. Gracias equipo TeSera por vuestro compromiso y responsabilidad #todosjuntospodemos #yomequedoencasa ?????? -- 0.3505556476212133 -- 1353\n",
            "Esta Semana Santa quiero salvar vidas: #YoMeQuedoEnCasa . Si te vas de “vacaciones”, ¿cuántas muertes caerán sobre tus espaldas la semana que viene...?. #QuedateEnTuCasa ?? -- 0.3428907435411057 -- 1372\n",
            "#QuedateEnCasa #YoMeQuedoEnCasa #COVIDー19 #JuntosNosCuidamos Disfrutando de la Semana Santa atraves de la plataforma @NefliCofrades ¡MUCHAS GRACIAS A TODO EL EQUIPO! ???? -- 0.34283890481106116 -- 813\n",
            "¡Feliz Semana Santa en casa!. Laboratorios Mahen, ¡siente la conexión con la naturaleza! ?. #SemanaSanta #YoMeQuedoEnCasa #LaboratoriosMahen -- 0.3365134481837606 -- 1327\n",
            "A este paso no creo que las escuelas abran hasta después de Semana Santa y ya veremos si más allá. #coronavirus #COVID19 #quedatencasa #estadodealarma -- 0.3360540990650495 -- 4170\n"
          ]
        }
      ],
      "source": [
        "# Obtenemos ahora los resultados usando el BM25\n",
        "query_vec = count_vect.transform([query]) # Ip -- (n_docs,x), Op -- (n_docs,n_Feats)\n",
        "query_vec_BM25 = bm25_transformer.fit_transform(query_vec)\n",
        "results = cosine_similarity(X_BM25,query_vec_BM25).reshape((-1,)) # Op -- (n_docs,1) -- Cosine Sim with each doc\n",
        "\n",
        "# Immprimimos a continuación los primeros 10 resultados ordenados por la similitud obtenida\n",
        "for i in results.argsort()[-10:][::-1]:\n",
        "    print(data.iloc[i,2],\"--\",results[i],\"--\",i)"
      ]
    },
    {
      "cell_type": "markdown",
      "metadata": {
        "id": "_5kye10CTYDn"
      },
      "source": [
        "## Apartado 1.5 Calculamos la similitud de varios textos con TF-IDF y BM25 (Resuelto)\n",
        "\n",
        "Vamos a calcular la similitud de el primer texto con respecto a los demás usando la similitud del coseno."
      ]
    },
    {
      "cell_type": "code",
      "execution_count": 30,
      "metadata": {
        "id": "9sBC9HP8TYDn",
        "colab": {
          "base_uri": "https://localhost:8080/"
        },
        "outputId": "96d7a479-fa41-42e5-f051-ca46158f93e0"
      },
      "outputs": [
        {
          "output_type": "stream",
          "name": "stdout",
          "text": [
            "[0.82218193 0.16800859 0.03486424 0.15382285]\n",
            "[0.7465174  0.1372938  0.03771061 0.1419987 ]\n"
          ]
        }
      ],
      "source": [
        "# Definimos un conjunto de textos\n",
        "textos=['El procesamiento del lenguaje natural (PLN o NLP) es un campo dentro de la inteligencia artificial y la lingüística aplicada que estudia las interacciones mediante uso del lenguaje natural entre los seres humanos y las máquinas. \\\n",
        "Más concretamente se centra en el procesamiento de las comunicaciones humanas, dividiéndolas en partes, e identificando los elementos más relevantes del mensaje.\\\n",
        "Con la Comprensión y Generación de Lenguaje Natural, busca que las máquinas consigan entender, interpretar y manipular el lenguaje humano.'\n",
        ", 'El procesamiento del lenguaje natural (NLP, por sus siglas en inglés) es una rama de la inteligencia artificial que ayuda a las computadoras a entender, interpretar y manipular el lenguaje humano. \\\n",
        "NLP toma elementos prestados de muchas disciplinas, incluyendo la ciencia de la computación y la lingüística computacional, en su afán por cerrar la brecha entre la comunicación humana y el entendimiento de las computadoras.\"\"\"], \"\"\"El procesamiento del lenguaje natural (PLN o NLP) es un campo dentro de la inteligencia artificial y la lingüística aplicada que estudia las interacciones mediante uso del lenguaje natural entre los seres humanos y las máquinas. Más concretamente se centra en el procesamiento de las comunicaciones humanas, dividiéndolas en partes, e identificando los elementos más relevantes del mensaje. Con la Comprensión y Generación de Lenguaje Natural, busca que las máquinas consigan entender, interpretar y manipular el lenguaje humano.'\n",
        ", 'La lingüística computacional es un campo interdisciplinario que se ocupa del desarrollo de formalismos del funcionamiento del lenguaje natural, tales que puedan ser transformados en programas ejecutables para un ordenador. \\\n",
        "Dicho desarrollo se sitúa entre el modelado basado en reglas y el modelado estadístico del lenguaje natural desde una perspectiva computacional, y en él participan lingüistas e informáticos especializados en inteligencia artificial, psicólogos cognoscitivos y expertos en lógica, entre otros.'\n",
        ", 'El aprendizaje automático es un tipo de inteligencia artificial (AI) que proporciona a las computadoras la capacidad de aprender, sin ser programadas explícitamente. El aprendizaje automático se centra en el desarrollo de programas informáticos que pueden cambiar cuando se exponen a nuevos datos.'\n",
        ", 'El  aprendizaje profundo es un tema que cada vez adquiere mayor relevancia en el campo de la inteligencia artificial (IA). Siendo una subcategoría del aprendizaje automático, el aprendizaje profundo trata del uso de redes neuronales para mejorar cosas tales como el reconocimiento de voz, la visión por ordenador y el procesamiento del lenguaje natural. \\\n",
        "Rápidamente se está convirtiendo en uno de los campos más solicitados en informática. \\\n",
        "En los últimos años, el aprendizaje profundo ha ayudado a lograr avances en áreas tan diversas como la percepción de objetos, el procesamiento del lenguaje natural y el reconocimiento de voz (todas ellas áreas especialmente complejas para los investigadores en IA).'\n",
        "]\n",
        "\n",
        "# Calculamos la similitud usando TFIDF\n",
        "count_vect = CountVectorizer(stop_words=stopwords)\n",
        "X_counts = count_vect.fit_transform(textos)\n",
        "\n",
        "# Calculamos ahora el TFIDF\n",
        "tfidf_transformer = TfidfTransformer()\n",
        "X_TFIDF = tfidf_transformer.fit_transform(X_counts)\n",
        "\n",
        "# Calculamos también el BM25\n",
        "BM25_transformer = BM25Transformer(k=1.2,b=0.75)\n",
        "X_BM25 = BM25_transformer.fit_transform(X_counts)\n",
        "\n",
        "# Calculamos la similitud de los documentos con el coseno para TFIDF\n",
        "results = cosine_similarity(X_TFIDF[1::],X_TFIDF[0]).reshape((-1,)) # Op -- (n_docs,1) -- Cosine Sim with each doc\n",
        "print(results)\n",
        "\n",
        "# Calculamos la similitud de los textos con el coseno para BM25\n",
        "results = cosine_similarity(X_BM25[1::],X_TFIDF[0]).reshape((-1,)) # Op -- (n_docs,1) -- Cosine Sim with each doc\n",
        "print(results)\n",
        "\n"
      ]
    },
    {
      "cell_type": "markdown",
      "source": [
        "##1.6 Cambiando a character n-grams\n",
        "Podemos usar en vez de palabras (words), character n-grams para crear el vocabulario. Lo vemos con el primer ejemplo"
      ],
      "metadata": {
        "id": "oxdP7JACcBqH"
      }
    },
    {
      "cell_type": "code",
      "execution_count": 31,
      "metadata": {
        "id": "KtOJF8z9TYDn",
        "colab": {
          "base_uri": "https://localhost:8080/"
        },
        "outputId": "64e75bb4-e783-41bd-e1be-216632c23d6c"
      },
      "outputs": [
        {
          "output_type": "stream",
          "name": "stdout",
          "text": [
            "(3, 36)\n",
            "La asignatura de TGINE es una asignatura del máster de BigData que se estudia en la Universidad de Murcia.\n",
            "En la asignatura de máster vemos una introducción al procesamiento del lenguaje natural y tecnologías de procesamiento\n",
            "de información no estructurada.\n",
            "\n",
            "  (0, 16)\t3\n",
            "  (0, 1)\t3\n",
            "  (0, 4)\t6\n",
            "  (0, 31)\t1\n",
            "  (0, 8)\t1\n",
            "  (0, 32)\t2\n",
            "  (0, 5)\t2\n",
            "  (0, 21)\t2\n",
            "  (0, 2)\t1\n",
            "  (0, 27)\t1\n",
            "  (0, 29)\t1\n",
            "  (0, 10)\t1\n",
            "  (0, 7)\t2\n",
            "  (0, 33)\t1\n",
            "  (0, 20)\t1\n",
            "  (0, 35)\t1\n",
            "  (0, 15)\t1\n",
            "  (0, 0)\t1\n",
            "  (0, 25)\t2\n",
            "  (0, 18)\t1\n",
            "  (0, 22)\t1\n",
            "  (0, 30)\t1\n",
            "  (0, 14)\t1\n",
            "  (0, 24)\t1\n",
            "  (0, 9)\t1\n",
            "No me gusta el chocolate ni las fresas\n",
            "  (0, 24)\t1\n",
            "  (0, 19)\t1\n",
            "  (0, 13)\t1\n",
            "  (0, 6)\t1\n",
            "  (0, 3)\t1\n",
            "  (0, 23)\t1\n",
            "  (0, 17)\t1\n",
            "  (0, 11)\t1\n",
            "El profesor de la asignatura TGINE es Rafael Valencia García.\n",
            "\n",
            "  (0, 16)\t1\n",
            "  (0, 1)\t1\n",
            "  (0, 4)\t1\n",
            "  (0, 31)\t1\n",
            "  (0, 8)\t1\n",
            "  (0, 6)\t1\n",
            "  (0, 26)\t1\n",
            "  (0, 28)\t1\n",
            "  (0, 34)\t1\n",
            "  (0, 12)\t1\n",
            "Mostramos los items del diccionario\n",
            "dict_items([('la', 16), ('asignatura', 1), ('de', 4), ('tgine', 31), ('es', 8), ('una', 32), ('del', 5), ('máster', 21), ('bigdata', 2), ('que', 27), ('se', 29), ('estudia', 10), ('en', 7), ('universidad', 33), ('murcia', 20), ('vemos', 35), ('introducción', 15), ('al', 0), ('procesamiento', 25), ('lenguaje', 18), ('natural', 22), ('tecnologías', 30), ('información', 14), ('no', 24), ('estructurada', 9), ('me', 19), ('gusta', 13), ('el', 6), ('chocolate', 3), ('ni', 23), ('las', 17), ('fresas', 11), ('profesor', 26), ('rafael', 28), ('valencia', 34), ('garcía', 12)])\n",
            "Tamaño vocabulario: 36\n",
            "Código de la palabra TGINE es: 31\n"
          ]
        }
      ],
      "source": [
        "texto = \"\"\"La asignatura de TGINE es una asignatura del máster de BigData que se estudia en la Universidad de Murcia.\n",
        "En la asignatura de máster vemos una introducción al procesamiento del lenguaje natural y tecnologías de procesamiento\n",
        "de información no estructurada.\n",
        "\"\"\"\n",
        "texto2 = \"No me gusta el chocolate ni las fresas\"\n",
        "\n",
        "texto3 = \"\"\"El profesor de la asignatura TGINE es Rafael Valencia García.\n",
        "\"\"\"\n",
        "# Calculamos la matriz de TF usando la función fit_transform\n",
        "count_vect = CountVectorizer()\n",
        "X_counts = count_vect.fit_transform([texto,texto2,texto3])\n",
        "\n",
        "# Mostramos entonces el número de textos y el número de tokens únicos\n",
        "print(X_counts.shape)\n",
        "\n",
        "# X_counts es una matriz dispersa con el TF de cada token en cada texto\n",
        "# Imprimimos los textos y su correspondientes TF\n",
        "print(texto)\n",
        "print(X_counts[0])\n",
        "print(texto2)\n",
        "print(X_counts[1])\n",
        "print(texto3)\n",
        "print(X_counts[2])\n",
        "\n",
        "#Los tokens de todo el vocabulario se representan con ids que hacen referencia a cada token.\n",
        "print(\"Mostramos los items del diccionario\")\n",
        "print(count_vect.vocabulary_.items())\n",
        "print(\"Tamaño vocabulario:\", str(len(count_vect.vocabulary_.items())))\n",
        "\n",
        "#Mostramos el código de una palabra determinada\n",
        "#hay que tener en cuenta que todos los tokens se guardan en minúsculas\n",
        "palabra_a_buscar=\"TGINE\"\n",
        "print(\"Código de la palabra\", palabra_a_buscar, \"es:\", count_vect.vocabulary_.get(palabra_a_buscar.lower()))"
      ]
    }
  ],
  "metadata": {
    "colab": {
      "provenance": [],
      "include_colab_link": true
    },
    "kernelspec": {
      "display_name": "Python 3 (ipykernel)",
      "language": "python",
      "name": "python3"
    },
    "language_info": {
      "codemirror_mode": {
        "name": "ipython",
        "version": 3
      },
      "file_extension": ".py",
      "mimetype": "text/x-python",
      "name": "python",
      "nbconvert_exporter": "python",
      "pygments_lexer": "ipython3",
      "version": "3.10.6"
    }
  },
  "nbformat": 4,
  "nbformat_minor": 0
}