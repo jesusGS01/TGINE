{
  "cells": [
    {
      "cell_type": "markdown",
      "metadata": {
        "id": "view-in-github",
        "colab_type": "text"
      },
      "source": [
        "<a href=\"https://colab.research.google.com/github/jesusGS01/TGINE/blob/main/5_2_Entrenar_Word2vec_y_Doc2vec_desde_0.ipynb\" target=\"_parent\"><img src=\"https://colab.research.google.com/assets/colab-badge.svg\" alt=\"Open In Colab\"/></a>"
      ]
    },
    {
      "cell_type": "markdown",
      "metadata": {
        "id": "CrajzBdoGAki"
      },
      "source": [
        "# Sesión 5 - Entrenar Word2vec y Doc2Vec desde 0\n",
        "\n",
        "En este notebook vamos a ver cómo se entrena un modelo sencillo de word2vec eligiendo las dimensiones de los vectores.\n",
        "\n",
        "Además, se creará un modelo de Doc2Vec a partir de un conjunto de documentos y se verá cómo se puede obtener las similitudes entre documentos.\n"
      ]
    },
    {
      "cell_type": "code",
      "execution_count": 1,
      "metadata": {
        "id": "aWLFpiTGDgWO",
        "colab": {
          "base_uri": "https://localhost:8080/"
        },
        "outputId": "c759f50c-ca61-47c2-b2d4-e9be2d7bb33e"
      },
      "outputs": [
        {
          "output_type": "stream",
          "name": "stdout",
          "text": [
            "Requirement already satisfied: gensim in /usr/local/lib/python3.10/dist-packages (4.3.2)\n",
            "Requirement already satisfied: numpy>=1.18.5 in /usr/local/lib/python3.10/dist-packages (from gensim) (1.23.5)\n",
            "Requirement already satisfied: scipy>=1.7.0 in /usr/local/lib/python3.10/dist-packages (from gensim) (1.11.3)\n",
            "Requirement already satisfied: smart-open>=1.8.1 in /usr/local/lib/python3.10/dist-packages (from gensim) (6.4.0)\n",
            "Requirement already satisfied: pandas in /usr/local/lib/python3.10/dist-packages (1.5.3)\n",
            "Collecting pandas\n",
            "  Downloading pandas-2.1.2-cp310-cp310-manylinux_2_17_x86_64.manylinux2014_x86_64.whl (12.3 MB)\n",
            "\u001b[2K     \u001b[90m━━━━━━━━━━━━━━━━━━━━━━━━━━━━━━━━━━━━━━━━\u001b[0m \u001b[32m12.3/12.3 MB\u001b[0m \u001b[31m19.0 MB/s\u001b[0m eta \u001b[36m0:00:00\u001b[0m\n",
            "\u001b[?25hRequirement already satisfied: numpy<2,>=1.22.4 in /usr/local/lib/python3.10/dist-packages (from pandas) (1.23.5)\n",
            "Requirement already satisfied: python-dateutil>=2.8.2 in /usr/local/lib/python3.10/dist-packages (from pandas) (2.8.2)\n",
            "Requirement already satisfied: pytz>=2020.1 in /usr/local/lib/python3.10/dist-packages (from pandas) (2023.3.post1)\n",
            "Collecting tzdata>=2022.1 (from pandas)\n",
            "  Downloading tzdata-2023.3-py2.py3-none-any.whl (341 kB)\n",
            "\u001b[2K     \u001b[90m━━━━━━━━━━━━━━━━━━━━━━━━━━━━━━━━━━━━━━━━\u001b[0m \u001b[32m341.8/341.8 kB\u001b[0m \u001b[31m11.0 MB/s\u001b[0m eta \u001b[36m0:00:00\u001b[0m\n",
            "\u001b[?25hRequirement already satisfied: six>=1.5 in /usr/local/lib/python3.10/dist-packages (from python-dateutil>=2.8.2->pandas) (1.16.0)\n",
            "Installing collected packages: tzdata, pandas\n",
            "  Attempting uninstall: pandas\n",
            "    Found existing installation: pandas 1.5.3\n",
            "    Uninstalling pandas-1.5.3:\n",
            "      Successfully uninstalled pandas-1.5.3\n",
            "\u001b[31mERROR: pip's dependency resolver does not currently take into account all the packages that are installed. This behaviour is the source of the following dependency conflicts.\n",
            "lida 0.0.10 requires fastapi, which is not installed.\n",
            "lida 0.0.10 requires kaleido, which is not installed.\n",
            "lida 0.0.10 requires python-multipart, which is not installed.\n",
            "lida 0.0.10 requires uvicorn, which is not installed.\n",
            "google-colab 1.0.0 requires pandas==1.5.3, but you have pandas 2.1.2 which is incompatible.\u001b[0m\u001b[31m\n",
            "\u001b[0mSuccessfully installed pandas-2.1.2 tzdata-2023.3\n",
            "Requirement already satisfied: nltk in /usr/local/lib/python3.10/dist-packages (3.8.1)\n",
            "Requirement already satisfied: click in /usr/local/lib/python3.10/dist-packages (from nltk) (8.1.7)\n",
            "Requirement already satisfied: joblib in /usr/local/lib/python3.10/dist-packages (from nltk) (1.3.2)\n",
            "Requirement already satisfied: regex>=2021.8.3 in /usr/local/lib/python3.10/dist-packages (from nltk) (2023.6.3)\n",
            "Requirement already satisfied: tqdm in /usr/local/lib/python3.10/dist-packages (from nltk) (4.66.1)\n"
          ]
        }
      ],
      "source": [
        "# Instalamos gensim si no lo tenemos instalado\n",
        "!pip3 install -U gensim\n",
        "# Esto es por si no está ya instalado\n",
        "!pip3 install -U pandas\n",
        "!pip3 install -U nltk"
      ]
    },
    {
      "cell_type": "markdown",
      "metadata": {
        "id": "nXwlp73V7Ttp"
      },
      "source": [
        "# Apartado 1.1 Descargamos un corpus de prueba\n",
        "\n",
        "Vamos a probar con un corpus de noticias que se encuentra en la URL https://dis.um.es/~valencia/recursosTGINE/corpusNoticias.zip"
      ]
    },
    {
      "cell_type": "code",
      "execution_count": 2,
      "metadata": {
        "id": "kWO6w9RLzzRm",
        "colab": {
          "base_uri": "https://localhost:8080/"
        },
        "outputId": "022d5159-6349-4350-c048-d7d5b78f7441"
      },
      "outputs": [
        {
          "output_type": "stream",
          "name": "stdout",
          "text": [
            "--2023-11-09 18:07:46--  https://dis.um.es/~valencia/recursosTGINE/corpusNoticias.zip\n",
            "Resolving dis.um.es (dis.um.es)... 155.54.239.5\n",
            "Connecting to dis.um.es (dis.um.es)|155.54.239.5|:443... connected.\n",
            "HTTP request sent, awaiting response... 200 OK\n",
            "Length: 4013278 (3.8M) [application/zip]\n",
            "Saving to: ‘corpusNoticias.zip’\n",
            "\n",
            "corpusNoticias.zip  100%[===================>]   3.83M  3.13MB/s    in 1.2s    \n",
            "\n",
            "2023-11-09 18:07:47 (3.13 MB/s) - ‘corpusNoticias.zip’ saved [4013278/4013278]\n",
            "\n"
          ]
        }
      ],
      "source": [
        "# Descargamos un corpus de noticias que he creado\n",
        "!wget https://dis.um.es/~valencia/recursosTGINE/corpusNoticias.zip\n",
        "!unzip corpusNoticias.zip > extract.log"
      ]
    },
    {
      "cell_type": "markdown",
      "metadata": {
        "id": "ap0DBy7V7e-4"
      },
      "source": [
        "Leemos todos lo ficheros y los metemos en una variable *texts*\n",
        "\n",
        "Tened en cuenta que la codificación de caracteres en estos ficheros es ISO-8859-1. Esto depende del contenido de las web a descargar."
      ]
    },
    {
      "cell_type": "code",
      "execution_count": 3,
      "metadata": {
        "id": "7YShf3_zDZNv"
      },
      "outputs": [],
      "source": [
        "from os import listdir\n",
        "from os.path import isfile, join\n",
        "\n",
        "my_path = \"corpusNoticias/\"\n",
        "texts = []\n",
        "for fn in listdir(my_path):\n",
        "  f = open(my_path+fn, encoding = \"ISO-8859-1\")\n",
        "  file_content = f.read()\n",
        "  texts.append(file_content)\n",
        "  f.close()\n"
      ]
    },
    {
      "cell_type": "markdown",
      "metadata": {
        "id": "ayP_P-SdgnYq",
        "tags": []
      },
      "source": [
        "# Apartado 1.2 Entrenamos un modelo word2vec a partir del corpus\n",
        "\n",
        "Aquí vamos a entrenar un modelo word2vec con la librería GENSIM. Como Tokenizer se utilizará el word_tokenize de NLTK, pero se podría usar cualquier otro tokenizador."
      ]
    },
    {
      "cell_type": "code",
      "execution_count": 4,
      "metadata": {
        "id": "VYOCayluhnw7"
      },
      "outputs": [],
      "source": [
        "from os import listdir\n",
        "from os.path import isfile, join\n",
        "import numpy\n",
        "import pandas\n",
        "import nltk\n",
        "from nltk.corpus import stopwords\n",
        "from gensim.models import Word2Vec,KeyedVectors\n",
        "from gensim.test.utils import datapath\n",
        "import re\n",
        "import unicodedata\n",
        "from tqdm import tqdm\n",
        "import gensim\n",
        "import multiprocessing\n",
        "import random\n",
        "from nltk.tokenize import word_tokenize\n"
      ]
    },
    {
      "cell_type": "code",
      "execution_count": 5,
      "metadata": {
        "id": "FM6EVMswuu9-",
        "colab": {
          "base_uri": "https://localhost:8080/"
        },
        "outputId": "7f6fb2b4-c738-4b11-eef1-aa5db929b3d2"
      },
      "outputs": [
        {
          "output_type": "stream",
          "name": "stderr",
          "text": [
            "[nltk_data] Downloading package punkt to /root/nltk_data...\n",
            "[nltk_data]   Unzipping tokenizers/punkt.zip.\n"
          ]
        }
      ],
      "source": [
        "# Procesamos todos los textos y le aplicamos el word_tokenize de NLTK\n",
        "nltk.download('punkt')\n",
        "train_texts=[]\n",
        "for text in texts:\n",
        "     train_texts.append(word_tokenize(text.lower()))"
      ]
    },
    {
      "cell_type": "code",
      "execution_count": 6,
      "metadata": {
        "id": "nXcj2gSJjKBf",
        "colab": {
          "base_uri": "https://localhost:8080/"
        },
        "outputId": "2a419cd5-bf25-4965-dfe0-3ddd2f252687"
      },
      "outputs": [
        {
          "output_type": "stream",
          "name": "stdout",
          "text": [
            "Word2Vec<vocab=65297, vector_size=100, alpha=0.025>\n"
          ]
        }
      ],
      "source": [
        "from gensim.models import Word2Vec\n",
        "# define training data\n",
        "# train model\n",
        "# se puede entrenar el modelo con distintos parámetros como el tamaño del vector, tamaño de la ventana, las veces que debe\n",
        "# aparecer una palabra, etc.\n",
        "model = Word2Vec(train_texts, vector_size=100, window=10, min_count=1, workers=10)\n",
        "# summarize the loaded model\n",
        "print(model)\n",
        "# save model\n",
        "model.save('model.bin')\n"
      ]
    },
    {
      "cell_type": "code",
      "execution_count": 7,
      "metadata": {
        "id": "Mgj_UBgG90GZ",
        "colab": {
          "base_uri": "https://localhost:8080/"
        },
        "outputId": "7f609f69-9bad-4135-a4bd-290649578afb"
      },
      "outputs": [
        {
          "output_type": "stream",
          "name": "stdout",
          "text": [
            "[-3.32302928e-01 -2.89035082e-01  1.31270200e-01  5.38477719e-01\n",
            "  1.46033362e-01 -4.52652872e-01  1.17997909e+00  9.34033573e-01\n",
            " -2.27913141e-01 -5.80577850e-01  3.51769298e-01 -3.06474417e-02\n",
            "  5.70525527e-01 -4.97022510e-01 -1.37214866e-02  1.10126927e-01\n",
            "  1.12488151e+00 -2.98569232e-01 -4.19529796e-01 -3.92712176e-01\n",
            "  9.01951730e-01  1.03364348e+00  5.62652707e-01 -7.26178110e-01\n",
            " -4.54000324e-01 -4.38300729e-01 -2.91872285e-02  1.08416450e+00\n",
            "  7.72997886e-02  4.64841068e-01  1.24063981e+00 -6.61283553e-01\n",
            " -7.46721208e-01 -4.57586735e-01 -6.43015146e-01  1.24790418e+00\n",
            "  9.05629575e-01  3.25669765e-01 -4.25543457e-01 -4.89855886e-01\n",
            "  1.06388533e+00 -7.42860258e-01 -4.94016737e-01  1.07361056e-01\n",
            "  3.62946540e-01  6.03122890e-01 -5.73800206e-01 -6.38415694e-01\n",
            "  9.11710441e-01  2.71047741e-01  1.78090081e-01 -8.88756633e-01\n",
            "  2.20009759e-01 -2.53252447e-01 -9.13177356e-02  6.42076492e-01\n",
            "  6.93647087e-01 -4.05200005e-01  6.99490428e-01 -3.32431436e-01\n",
            " -1.34559870e-01 -4.71104741e-01  9.36754346e-01  2.14456826e-01\n",
            " -1.63673863e-01  1.01612222e+00  3.38156037e-02  4.67641175e-01\n",
            " -3.04446518e-01 -3.61321159e-02  1.52183756e-01 -1.04352288e-01\n",
            "  4.48954403e-01 -8.95326659e-02 -3.08034718e-01 -2.83173323e-01\n",
            "  6.58264577e-01 -1.29336819e-01  1.11775771e-01  1.22280665e-01\n",
            " -8.83940458e-01 -3.63792121e-01  3.63244146e-01  6.60489678e-01\n",
            " -2.27750152e-01 -9.78702068e-01 -2.05065683e-01 -5.34158885e-01\n",
            "  1.39837253e+00  1.14155352e-01  1.28574133e+00  1.45692891e-03\n",
            "  7.37011358e-02 -5.23188651e-01  2.45043302e+00  7.81771421e-01\n",
            "  6.38229176e-02 -2.03792918e-02 -1.17583275e-01  3.66481632e-01]\n"
          ]
        }
      ],
      "source": [
        "# Cargamos el modelo guardado\n",
        "new_model = Word2Vec.load('model.bin')\n",
        "\n",
        "# Probamos el nuevo modelo\n",
        "# Imprimimos el vector de la palabra 'energía'\n",
        "print(model.wv['energía'])\n"
      ]
    },
    {
      "cell_type": "code",
      "execution_count": 22,
      "metadata": {
        "id": "MOZqC1A3y9HB",
        "colab": {
          "base_uri": "https://localhost:8080/"
        },
        "outputId": "b870355a-43ce-44b2-c38a-1a9242b887d1"
      },
      "outputs": [
        {
          "output_type": "execute_result",
          "data": {
            "text/plain": [
              "0.26892635"
            ]
          },
          "metadata": {},
          "execution_count": 22
        }
      ],
      "source": [
        "# Probamos similitudes\n",
        "new_model.wv.similarity(\"jesus\", \"fracasado\")"
      ]
    },
    {
      "cell_type": "code",
      "execution_count": 9,
      "metadata": {
        "id": "5ZPaD_Fvc2ZY",
        "colab": {
          "base_uri": "https://localhost:8080/"
        },
        "outputId": "93c0e206-a37f-433f-84ca-d0a1c31fee22"
      },
      "outputs": [
        {
          "output_type": "stream",
          "name": "stdout",
          "text": [
            "[('covid-19', 0.9623693823814392), ('coronavirus', 0.9595177173614502), ('contagio', 0.8973839282989502), ('sars-cov-2', 0.8792991042137146), ('casos', 0.8700515031814575), ('vacunación', 0.8673209547996521), ('contagios', 0.8666442036628723), ('pfizer', 0.8611642122268677), ('datos', 0.860546350479126), ('dosis', 0.8578240871429443)]\n",
            "[('universidad', 0.9563602209091187), ('mancha', 0.9304651021957397), ('castilla-la', 0.9282267689704895), ('emergencias', 0.9267937541007996), ('geográfico', 0.9201173186302185), ('microbiología', 0.9180510640144348), ('instituto', 0.9114208817481995), ('extremadura', 0.9081405997276306), ('gomera', 0.9078753590583801), ('aragón', 0.9056111574172974)]\n"
          ]
        }
      ],
      "source": [
        "# Probamos en listar alguna de las palabras más similares\n",
        "# Imprimimos las palabras más similares a 'covid'\n",
        "palabra = 'covid'\n",
        "print(new_model.wv.most_similar(palabra))\n",
        "\n",
        "# Imprimimos las palabras más similares a 'energía'\n",
        "palabra = 'murcia'\n",
        "print(new_model.wv.most_similar(palabra))"
      ]
    },
    {
      "cell_type": "code",
      "execution_count": 10,
      "metadata": {
        "id": "EBffwV47-DbY",
        "colab": {
          "base_uri": "https://localhost:8080/"
        },
        "outputId": "df0f651e-dd31-4086-9da0-d3e9b320d724"
      },
      "outputs": [
        {
          "output_type": "stream",
          "name": "stdout",
          "text": [
            "[('pública', 0.8335195183753967), ('sanidad', 0.8143428564071655), ('medidas', 0.8075898885726929), ('ema', 0.8017637133598328), ('seguridad', 0.7991828918457031), ('variantes', 0.7895002961158752), ('oms', 0.789139986038208), ('prevención', 0.7885681986808777), ('comunidades', 0.7867915630340576), ('administración', 0.7798408269882202)]\n",
            "[('importancia', 0.8592158555984497), ('opinión', 0.854713499546051), ('democracia', 0.8495200872421265), ('respuesta', 0.8483499884605408), ('estrategia', 0.8472895622253418), ('crisis', 0.8432221412658691), ('postura', 0.8402270674705505), ('cuestión', 0.8377296924591064), ('política', 0.8322826027870178), ('voluntad', 0.8271920680999756)]\n"
          ]
        }
      ],
      "source": [
        "# Probamos alguna analogía\n",
        "# Covid es a Vacunas lo que Salud es a ...\n",
        "print(new_model.wv.most_similar(positive=[\"salud\", \"vacunas\"], negative=[\"covid\"], topn=10))\n",
        "\n",
        "# Covid es a Vacunas lo que Guerra es a ...\n",
        "print(new_model.wv.most_similar(positive=[\"guerra\", \"vacunas\"], negative=[\"covid\"], topn=10))\n"
      ]
    },
    {
      "cell_type": "code",
      "execution_count": 11,
      "metadata": {
        "id": "CZuk9ucac2ZY",
        "colab": {
          "base_uri": "https://localhost:8080/"
        },
        "outputId": "e8f34375-908b-45dc-a869-4d9e8ce99b31"
      },
      "outputs": [
        {
          "output_type": "stream",
          "name": "stdout",
          "text": [
            "[('covid-19', 0.9623693823814392), ('coronavirus', 0.9595177173614502), ('contagio', 0.8973839282989502), ('sars-cov-2', 0.8792991042137146), ('casos', 0.8700515031814575), ('vacunación', 0.8673209547996521), ('contagios', 0.8666442036628723), ('pfizer', 0.8611642122268677), ('datos', 0.860546350479126), ('dosis', 0.8578240871429443)]\n",
            "[('invasión', 0.9214394688606262), ('económica', 0.9032465219497681), ('bruselas', 0.9024725556373596), ('guerra', 0.8988350033760071), ('estrategia', 0.897479772567749), ('prioridad', 0.8882173299789429), ('importancia', 0.8842669129371643), ('rusia', 0.8834152817726135), ('juventud', 0.8769779801368713), ('ponencia', 0.8745707273483276)]\n"
          ]
        }
      ],
      "source": [
        "# Probamos a mostrar términos similares\n",
        "# Imprimimos las palabras más similares a 'covid'\n",
        "palabra = 'covid'\n",
        "print(new_model.wv.most_similar(palabra))\n",
        "\n",
        "# Imprimimos las palabras más similares a 'ucrania'\n",
        "palabra = 'ucrania'\n",
        "print(new_model.wv.most_similar(palabra))"
      ]
    },
    {
      "cell_type": "markdown",
      "metadata": {
        "id": "mca-aFsZIaoH"
      },
      "source": [
        "# Apartado 1.3 Entrenamos un Doc2Vec con los mismos textos\n"
      ]
    },
    {
      "cell_type": "code",
      "execution_count": 23,
      "metadata": {
        "id": "yZ8Su_gJIcn3"
      },
      "outputs": [],
      "source": [
        "#Import all the dependencies\n",
        "from gensim.models import Doc2Vec\n",
        "from gensim.models.doc2vec import TaggedDocument\n",
        "\n",
        "#Necestiamos crear un TaggedDocument para cada uno de los textos indicando un índice de cada texto\n",
        "tagged_data = [TaggedDocument(words=_d, tags=[str(i)]) for i, _d in enumerate(train_texts)]\n"
      ]
    },
    {
      "cell_type": "code",
      "execution_count": 24,
      "metadata": {
        "id": "su6HsyG7I-UH",
        "colab": {
          "base_uri": "https://localhost:8080/"
        },
        "outputId": "dc5c6178-3359-42ed-ea55-196ea27a9d5a"
      },
      "outputs": [
        {
          "output_type": "stream",
          "name": "stderr",
          "text": [
            "WARNING:gensim.models.word2vec:Effective 'alpha' higher than previous training cycles\n"
          ]
        },
        {
          "output_type": "stream",
          "name": "stdout",
          "text": [
            "Model Saved\n"
          ]
        }
      ],
      "source": [
        "# Definimos los parámetros de entrenamiento y entrenamos\n",
        "max_epochs = 10\n",
        "vec_size = 50\n",
        "alpha = 0.025\n",
        "\n",
        "doc2vec_model = Doc2Vec(vector_size=vec_size,\n",
        "                alpha=alpha,\n",
        "                min_alpha=0.00025,\n",
        "                min_count=1,\n",
        "                dm = 1,\n",
        "                epochs = max_epochs)\n",
        "\n",
        "doc2vec_model.build_vocab(tagged_data)\n",
        "\n",
        "for epoch in range(max_epochs):\n",
        "    doc2vec_model.train(tagged_data,\n",
        "                total_examples=doc2vec_model.corpus_count,\n",
        "                epochs=doc2vec_model.epochs)\n",
        "    # decrease the learning rate\n",
        "    doc2vec_model.alpha -= 0.0002\n",
        "    # fix the learning rate, no decay\n",
        "    doc2vec_model.min_alpha = model.alpha\n",
        "\n",
        "doc2vec_model.save(\"d2v.model\")\n",
        "print(\"Model Saved\")"
      ]
    },
    {
      "cell_type": "code",
      "execution_count": 26,
      "metadata": {
        "id": "1gBkCLWVJahE",
        "colab": {
          "base_uri": "https://localhost:8080/"
        },
        "outputId": "d9c13cc2-9578-4a04-c0cc-05b38ee7070a"
      },
      "outputs": [
        {
          "output_type": "stream",
          "name": "stdout",
          "text": [
            "[('1341', 0.6503051519393921), ('1426', 0.62728351354599), ('1211', 0.6272633671760559), ('189', 0.6272565126419067), ('544', 0.625141441822052)]\n",
            "--------------------------\n",
            "Varios dirigentes del PPC, increpados en Vic cuando celebraban un acto público\n",
            "El presidente del PPC, Alejandro Fernández, y otros dirigentes del partido han sido recibidos este sábado en el centro de Vic (Barcelona) con insultos, abucheos y gritos de \"fascistas\" por un grupo de manifestantes, en una tensa protesta que ha obligado a los Mossos a abrir paso a los políticos. Los dirigentes populares habían convocado este mediodía una rueda de prensa en la plaza Mayor de Vic, donde el partido pidió permisos para montar una carpa informativa que el Ayuntamiento de la población les ha denegado. Cuando el grupo de políticos caminaba por el centro de Vic, decenas de personas se han concentrado para impedirles el paso, mientras les increpaban a gritos de \"fascistas\" o \"fuera, fuera\" y proferían insultos. En la protesta se han vivido momentos de tensión, con empujones y algún zarandeo, cuando algunos manifestantes se han encarado a los Mossos d'Esquadra que trataban de impedir que se acercaran a los dirigentes populares. Ello ha obligado a un grupo de agentes de la policía catalana -entre ellos de unidades de orden público- a intervenir para garantizar el paso de la comitiva popular y que pudieran celebrar la rueda de prensa. En un mensaje a través de su cuenta de Twitter, Fernández ha ironizado sobre el \"pacífico recibimiento\" que los dirigentes del partido han tenido hoy en Vic. \"No todo el mundo, por supuesto: también hemos podido charlar con muchos vecinos encantadores\", ha añadido. En su mensaje, el líder popular ha tenido palabras de agradecimiento a los Mossos d'Esquadra \"por su trabajo\" y también ha puesto en valor el \"coraje\" de sus compañeros de partido. El PPC anunció ayer que presentará una denuncia ante la Fiscalía contra el Ayuntamiento de Vic (Barcelona) por prevaricación administrativa tras la decisión del consistorio de denegar la instalación de una carpa de los populares en la plaza Mayor de la localidad. Según el PP, el pasado lunes el Ayuntamiento de Vic notificó a los populares la negativa a la instalación de una carpa amparándose en una normativa municipal que impide el desarrollo de \"actividades contrarias a la moral, a las buenas costumbres ciudadanas, o al orden público\" en la vía pública. Dirigentes del PP de toda España han rechazado estos hechos en sus respectivas cuentas de Twitter y, así, el secretario general del Partido Popular, Teodoro García Egea, ha señalado que el PP \"está en todos los rincones de España defendiendo la libertad\" y que los \"independentistas tendrán que ir acostumbrándose\" porque la calle es \"de todos\". El alcalde de Madrid, José Luis Martínez Almeida ha mostrado su apoyo a sus compañeros del PP catalán \"por vuestra defensa de la libertad\" y se ha preguntado si \"¿de verdad que el problema de Cataluña son los impuestos de Madrid? ¿En serio?\". La portavoz del PP en el Parlamento Europea y exministra Dolors Montserrat ha apuntado que su partido defenderá siempre la libertad, \"en Vic y en todos los rincones de Cataluña\", y ha asegurado que \"los radicales nunca se saldrán con la suya. Cataluña somos todos\". A la condena por este acto se ha sumado, entre otros, el presidente del PP de País Vasco, Carlos Iturgaiz, que ha mostrado su apoyo al PPC \"por las amenazas y e insultos recibidos por las alimañas nacionalistas y separatistas en Vic\", y la presidenta del PP de Navarra, Ana Beltrán, que ha escrito: \"Fascismo en estado puro en Vic\" y \"mi repulsa para los radicales y para los que desde Moncloa callarán hoy como cobardes\".\n",
            "Similitud: 0.6503051519393921\n",
            "--------------------------\n",
            "El Gobierno lanza su \"112 inverso\": los operadores alertarán a la población en caso de\n",
            "Una pandemia por una enfermedad desconocida, la covid-19; la mayor nevada sobre Madrid en décadas, con el nombre de Filomena; la erupción más duradera en La Palma desde el siglo XVII, en el volcán de Cumbre Vieja... Los últimos meses han sido abundantes en catástrofes y, a la vista por ejemplo de la frecuencia de las inundaciones en el litoral del Levante, no pueden darse por concluidas. El Gobierno ha aprobado este martes en Consejo de Ministros su nueva Ley General de Telecomunicaciones, que trae novedades en la gestión de las emergencias, más allá de las tradicionales llamadas de acceso gratuito al teléfono 112. El proyecto normativo del Ejecutivo sienta las bases para desarrollar \"un sistema de alertas públicas o 112 inverso\". Así, tal y como ha expuesto el Ejecutivo, operadores de telecomunicaciones como Telefónica Movistar, Orange o Vodafone se verán obligados a \"transmitir las alertas públicas en casos de grandes catástrofes o emergencias inminentes o en curso\", de manera que la población reciba mensajes al respecto en sus teléfonos móviles, los haya pedido o no. Este nuevo sistema de alertas públicas en caso de grandes catástrofes o emergencias inminentes se denomina Public Warning System (PWS) y posibilitará el envío de \"avisos masivos e inmediatos a la población\", a través de las redes de telefonía móvil. El Ejecutivo en este caso sigue las recomendaciones del Código Europeo de Comunicaciones Electrónicas, que aconseja a las naciones del continente que cuenten con una herramienta de este tipo a partir de junio de 2022. Este proyecto del Ministerio de Asuntos Económicos y Transformación Digital, liderado por la vicepresidenta Nadia Calviño, se ha fraguado en colaboración con el Ministerio del Interior, de Fernando Grande-Marlaska, como parte de la Red de Alerta Nacional (RAN) de Protección Civil. El Plan de Recuperación que Pedro Sánchez ha enviado a Bruselas, de hecho, también contempla la creación de un sistema de estas características, dentro del apartado de Conectividad e Infraestructuras digitales. Además, con la nueva Ley de Telecomunicaciones, los servicios de emergencias contactados a través del 112 podrán geolocalizar las llamadas para \"disponer de una ubicación más precisa\" de la persona afectada que les llame, tal y como ha recogido el Gobierno tras la reunión del Consejo de Ministros que ha alumbrado este Proyecto de Ley General de Telecomunicaciones. Por otra parte, el servicio universal de telecomunicaciones se actualiza para que quede asegurado el acceso a, por ejemplo, correo electrónico, herramientas básicas de formación y educación online; a noticias, redes sociales y también a banca por internet, pero a su vez \"se eliminan elementos obsoletos como las cabinas telefónicas o las guías\", que en los próximos meses desaparecerán del paisaje de España y de los hogares de sus ciudadanos.\n",
            "Similitud: 0.62728351354599\n",
            "--------------------------\n",
            "El líder del PP, Pablo Casado, ha respondido este lunes a la presienta de la Comunidad de Madrid, Isabel Díaz Ayuso, que en este momento \"no toca\" el Congreso del PP y ha pedido \"unidad interna\" porque hay que \"ocuparse de lo importante con la que está cayendo en España\". Así, ha subrayado que en este momento el objetivo del PP debe ser presentar un proyecto alternativo para poder \"echar\" a Pedro Sánchez del Palacio de la Moncloa. \"Ayuso y Almeida son una gran presidenta y un gran alcalde, pero tanto ellos como yo sabemos que la labor interna del partido es secundaria a la labor institucional a la que nos debemos a los madrileños. Por tanto, éste es un tema que no lleva a nada y estoy convencido de que a partir de ahora estaremos hablando de lo importante\", ha recalcado. En una entrevista en la Cadena Cope, que ha recogido Europa Press, Casado ha explicado que la Junta Directiva del PP, máximo órgano del partido, fijó en el primer semestre del 2022 los congresos de las autonomías uniprovinciales como la de Madrid. De esta forma ha respondido a la petición de Ayuso de celebrar \"pronto\" el congreso del PP de Madrid para preparar las elecciones autonómicas y municipales de 2023. \"TENEMOS QUE HABLAR DE NOSOTROS MISMOS LO MENOS POSIBLE\" Además, ha subrayado que ahora tienen por delante la Convención Nacional del PP para presentar un proyecto alternativo a Pedro Sánchez. \"Podemos ganar a Sánchez si nos unimos todos, pero sobre todo si estamos a las cuestiones que a los españoles les importan\", ha asegurado, para pedir hablar de los temas internos \"lo menos posible\". Casado ha asegurado que, ante ese Congreso del PP de Madrid, él va \"con los militantes de Madrid\" y ha eludido pronunciarse a favor de Ayuso o del alcalde de la capital, José Luis Martínez Almeida. \"En este caso no puedo opinar como no opiné en el Valencia, ni en el de Galicia ni en ningún otro congreso\", ha enfatizado. El presidente del PP ha indicado que ha intentadoexplicar que \"esto no toca\" cuando le han preguntado públicamente y se ha quejado que, después de hacer una \"referencia amistosa\" tanto a Almeida como Ayuso, que estaban presentes en ese acto, se haya dicho que él ha \"terciado en el tema\", en alusión a las informaciones que apuntan que con sus declaraciones impulsó la candidatura del alcalde. Casado ha sacado pecho de su elección como candidatos de Almeida y Ayuso ante los comicios de 2019 y ha señalado que en su día \"todo el mundo le criticó\" porque no entendían su decisión. Dicho esto, ha elogiado su labor estos años y ha añadido que le \"enorgullece\". LAS DECLARACIONES DE AGUIRRE En cuanto a si le han molestado las declaraciones de la ex presidenta Esperanza Aguirre en EL MUNDO apoyando a Ayuso en la carrera por el PP de Madrid y aludiendo a los \"niñatos\" de Génova, Casado ha indicado que ella no se refiere a los \"dirigentes de la dirección nacional\", que ya tienen \"cuarenta añazos\". \"No se si se refería a Nuevas Generaciones\", ha apostillado. Dicho esto, ha insistido en que \"hay que quedarse con lo importante\". \"Y lo importante es que el PP siempre ha mostrado una unidad de acción, una unidad interna\", ha señalado, para añadir que en el PP hay \"equipo, programa experiencia, alternativa y proyecto\" y que lo que hay que \"hacer ahora es echar a Pedro Sánchez\".\n",
            "Similitud: 0.6272633671760559\n",
            "--------------------------\n",
            "Músculo y mensaje. Hoy Vox ha dado el pistoletazo de salida a su precampaña electoral. Y lo ha hecho poniendo en marcha unas jornadas festivas y políticas en las que ha logrado reunir a miles de personas (los organizadores dicen que se han superado los 20.000), superando sus históricos eventos de Vistalegre. Y su líder, Santiago Abascal, no solo ha marcado sus \"infinitas\" distancias políticas con el PSOE y con el PP, sino que, durante casi 50 minutos de intervención, ha fijado sus pilares para una próxima gobernabilidad. A sus contundentes ataques a la izquierda, al \"Gobierno social comunista\", Abascal añadió mensajes duros al PP en general y a Pablo Casado en particular. Arrancó denunciando que la agenda de política de futuro para España, la del 2030, la del PSOE y la del PP, es la misma. Y se refirió al anuncio de Casado en su pasada convención de que derogaría las leyes del PSOE y Podemos. \"Es mentira. No derogará nada. No llegará a ningún gobierno, porque a los españoles no se les puede mentir\". Aseguró que Casado dice que va a derogar leyes \"que el PP tiene\" vivas en Andalucía, Madrid o Galicia. En su opinión, en Andalucía, el PP está pactando ya los Presupuestos con el PSOE \"después de incumplir los acuerdos que alcanzamos\" para la investidura. \"Igual el señor Casado se ve obligado a apoyarnos a nosotros o pactar con el PSOE\", añadió Abascal durante su acto político, que tenía todos los tintes de mitin. \"Están convencidos de que van a gobernar... Parece que no saben de matemáticas. El PP no es una alternativa, es un simple relevo, son los mismos\". Abascal estuvo respaldado por un importante elenco de dirigentes políticos del ámbito internacional. \"Roban a vuestros padres para compraros a vosotros\" Hizo un claro llamamiento a los jóvenes: \"No os dejéis engañar, no os dejéis robar por este Gobierno. A los jóvenes os quieren someter con limosnas. Roban a vuestros padres para compraros a vosotros\". Abascal defendió los valores europeos y apostó por crear un frente en el sur de Europa, con Italia y Portugal, \"para frenar las imposiciones de los progres\". \"Levantaremos todo lo que derriben estos talibanes europeos\", sentenció Vox ha llevado a cabo este fin de semana su primer gran acto en vísperas de lo que prevén que serán meses vertiginosos electorales, con un respaldo significativo a todo su elenco de dirigentes. Además, los organizadores han recogido el apoyo de numerosos dirigentes tanto europeos como iberoamericanos. Sin duda, quien más entusiasmo ha despertado entre los miles de concentrados en el acto Viva 21 ha sido el que fuera funcionario de prisiones secuestrado por ETA durante 537 días, José Antonio Ortega Lara, quien ejerció de telonero de lujo. Ortega Lara, que no ocupa cargos esenciales ya en el partido, ha defendido por este orden de importancia la vida, la libertad y la propiedad, que entiende que están en peligro con este gobierno. En su opinión, Vox es más que un partido, llamado a cambiar y defender los valores tradicionales de España y su unidad: Asistentes al acto de Vox en el recinto de Ifema en Madrid.EFE La Agenda España de Vox- Devolución inmediata al Estado de las competencias en Educación, Sanidad, Seguridad y Justicia.- Eliminación de toda legislación de género que establezca diferencias laborales entre españoles atendiendo a su sexo, raza u orientación sexual, tales como cuotas, preferencia en la contratación o prevalencia en caso de empate en una oposición.- Suspensión inmediata de la autonomía de aquellas comunidades que utilicen recursos e instrumentos del autogobierno regional para atentar contra la unidad de España.- Derogar todas las leyes que alienten el enfrentamiento y la división entre españoles, como las llamadas leyes de \"memoria democrática\" o \"memoria histórica\".- Asegurar la sostenibilidad del sistema de pensiones mediante la reducción drástica del gasto político y la superación del sistema autonómico que despilfarra fondos públicos.- Garantizar una inmigración legal y ordenada.- Impulsar la subida de todos los salarios, especialmente los más bajos.- Garantizar el derecho a ser educado en español en todo el territorio nacional y el deber de todos los españoles de conocer la lengua común.- Liberar todo el suelo que no esté o deba estar especialmente protegido.- Suprimir de la Sanidad pública las intervenciones quirúrgicas ajenas a la salud (cambio de sexo, aborto, eutanasia, etc.) e incluir en ella los servicios bucodentales.- Garantizar la libertad de conciencia para todos los profesionales sanitarios ante las imposiciones de la cultura de la muerte; aborto o eutanasia.- Supresión del Impuesto sobre el Patrimonio, el Impuesto sobre Sucesiones y Donaciones y Plusvalías municipales en todo el territorio nacional, impuestos que suponen confiscaciones injustas, duplicadas o desproporcionadas del patrimonio de los españoles.- Despliegue militar en las fronteras de Ceuta, Melilla y Canarias.- Eliminación de las ayudas públicas a inmigrantes en situación ilegal y de las subvenciones a ONGs, asociaciones o cualquier entidad que destine sus fondos a promover o ayudar a la inmigración ilegal.- Cierre de los centros de MENAs que crean inseguridad en nuestras calles. Todos los menores extranjeros deben ser repatriados con sus padres a sus países de origen de forma inmediata.- Cierre de las mezquitas fundamentalistas y prohibición de su financiación por parte de Estados u organizaciones extranjeras.- Los jueces deben elegir a los jueces.- Prohibición de indultos para delitos relacionados con la corrupción política, la forma política del Estado o la integridad territorial.- Aprobación de una Ley de cuidados paliativos que asegure la asistencia sanitaria digna y el acompañamiento familiar, médico y espiritual de los enfermos.- Prohibición de los vientres de alquiler y toda actividad que cosifique y utilice como producto de compraventa a los seres humanos.- Abordar decididamente el grave problema olvidado del suicidio.\n",
            "Similitud: 0.6272565126419067\n",
            "--------------------------\n",
            "La UMU celebra la jornada Europa en un Mundo Cambiante: Sociedades Inclusivas, Innovadoras y Reflexivas\n",
            "El Aula Didáctica del Centro Social Universitario de la Universidad de Murcia acoge este jueves, 7 de noviembre, una nueva jornada informativa sobre el Programa Horizonte 2020 de la Unión Europea. En esta ocasión, se presentarán los contenidos de las convocatorias 2020 del Reto 6: Europa en un Mundo Cambiante: Sociedades Inclusivas, Innovadoras y Reflexivas del Programa Horizonte 2020.\n",
            "Las convocatorias 2020 del Reto 6 estarán abiertas hasta el próximo mes de marzo 2020 y representan una excelente oportunidad para los grupos de investigación en Ciencias Sociales, Económicas, Jurídicas y Humanidades principalmente, aunque tienen cabida otras áreas de conocimiento, tales como las TICs.\n",
            "Aunque las convocatorias, denominadas Migration; Socioeconomic and cultural transformations in the context of the fourth industrial revolution y; Governance for the future aborden temas de investigación específicos para las áreas de conocimiento citadas anteriormente, en estas convocatorias abordan también temas tecnológicos como inteligencia artificial, big data, block-chain, Internet de las cosas, realidad virtual y aumentada.  \n",
            "En esta ocasión, el evento contará con la presencia de Rocío Castrillo, Punto Nacional de Contacto, que presentará los contenidos de las convocatorias 2020 y el papel del Reto 6 en futuro Programa Marco Horizo Europe. \n",
            "Esta jornada está organizada por la Oficina de Proyectos Europeos e Internacionales de la Universidad de Murcia (OPERUM) y cuenta a con la cofinanciación del Programa Operativo FEDER de la Región de Murcia 2014-2020 y de la Dirección General de Universidades e Investigación de la Región de Murcia, Línea de Actuación 2: Asesoramiento, búsqueda de socios y financiación de Proyectos de I+D+i internacionales.\n",
            "Similitud: 0.625141441822052\n"
          ]
        }
      ],
      "source": [
        "from gensim.models import Doc2Vec\n",
        "\n",
        "doc2vec_model= Doc2Vec.load(\"d2v.model\")\n",
        "# Probamos a encontrar textos similares a uno dado\n",
        "query_text = \"españa\"\n",
        "test_data = word_tokenize(query_text)\n",
        "v1 = doc2vec_model.infer_vector(test_data)\n",
        "\n",
        "# Encontramos los documentos más similares\n",
        "similar_doc = doc2vec_model.dv.most_similar(v1)\n",
        "\n",
        "# Imprimimos los 5 documentos más similares\n",
        "top5_similar_doc = similar_doc[:5]\n",
        "print(top5_similar_doc)\n",
        "for doc in top5_similar_doc:\n",
        "  print(\"--------------------------\")\n",
        "  print(texts[int(doc[0])])\n",
        "  print('Similitud:',doc[1])\n",
        "\n"
      ]
    }
  ],
  "metadata": {
    "colab": {
      "provenance": [],
      "include_colab_link": true
    },
    "kernelspec": {
      "display_name": "Python 3 (ipykernel)",
      "language": "python",
      "name": "python3"
    },
    "language_info": {
      "codemirror_mode": {
        "name": "ipython",
        "version": 3
      },
      "file_extension": ".py",
      "mimetype": "text/x-python",
      "name": "python",
      "nbconvert_exporter": "python",
      "pygments_lexer": "ipython3",
      "version": "3.10.6"
    }
  },
  "nbformat": 4,
  "nbformat_minor": 0
}